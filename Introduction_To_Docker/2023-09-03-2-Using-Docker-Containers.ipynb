{
 "cells": [
  {
   "cell_type": "markdown",
   "metadata": {},
   "source": [
    "# Using Docker Containers\n",
    "  \n",
    "In chapter 2, you'll go from starting and stopping your first container to seeing how to clean your environment by removing all containers and images. You'll see how to debug issues by running commands inside a container or executing bash commands in a container interactively. Afterward, you'll know how to share images with colleagues or your entire company. All of this using the Docker Command Line Interface.\n"
   ]
  },
  {
   "cell_type": "markdown",
   "metadata": {},
   "source": [
    "## Running Docker containers\n",
    "  \n",
    "Let's see how to use Docker to start, stop and look at the output of containers.\n",
    "  \n",
    "**Prerequisite**\n",
    "  \n",
    "In the rest of the course, we'll be using the command line extensively, and some familiarity is needed, which is why we advise you to take the prerequisite course introduction to shell if you're not already familiar with most shell commands on this slide. We will be using commands like `nano` with only a brief introduction, together with several others, which you can find on the slide.\n",
    "  \n",
    "<center><img src='../_images/running-docker-containers.png' alt='img' width='740'></center>\n",
    "  \n",
    "**The Docker CLI**\n",
    "  \n",
    "Let's get started with the Docker command line interface or CLI. The CLI will send our instructions to the docker daemon, which is responsible for managing our containers and images. After receiving our command, the daemon will reply with the result, which we'll see in the terminal. The CLI command for Docker is simply `docker`. Before we can start a container, we have to choose which image to start it from. We need an image because images act as blueprints or recipes from which we can start containers. Images define what will be installed and available when the container is started. The container is then a running instance of the image, which we can interact with. For example, there exists an image called ubuntu that contains the full Ubuntu OS. Once we start a container from that image, we have a fully running Ubuntu OS that we can interact with using a shell.\n",
    "  \n",
    "<center><img src='../_images/running-docker-containers1.png' alt='img' width='740'></center>\n",
    "  \n",
    "**Docker container output**\n",
    "  \n",
    "If we want to start a container from an image, we can use the docker run command, followed by the image-name. For example, to start the hello-world image, we would use Docker space run space hello dash world. By default, Docker starts a container and shows you the container's output while it's running. When we run a hello-world container, it prints an explanation of how the container works and then stops.\n",
    "  \n",
    "<center><img src='../_images/running-docker-containers2.png' alt='img' width='740'></center>\n",
    "  \n",
    "**Choosing Docker container output**\n",
    "  \n",
    "When an image is created, the creator can choose what will happen when a container is started from the image. For example, the creators of the hello-world image choose to print out text and then make the container stop itself. Another example is the Ubuntu image, which contains a full Ubuntu OS. When starting an Ubuntu container, it will start and then shut down immediately without printing any output. Its creators decided that for their image, it didn't make sense to do anything specific by default. The Ubuntu OS starts, and it stops again without any output.\n",
    "  \n",
    "<center><img src='../_images/running-docker-containers3.png' alt='img' width='740'></center>\n",
    "  \n",
    "**An interactive Docker container**\n",
    "  \n",
    "Instead, the Ubuntu image is intended to be used with the `-it` flag. Using `docker run -it` followed by an image-name, we can start a container and simultaneously get an interactive shell in this container. If we do this with the Ubuntu image, using `docker run -it Ubuntu`, we end up in a new shell inside the new container. The shell gives us access to a clean Ubuntu environment isolated from our host machine because it is running inside the container. Once we want to exit the container, we simply use the `exit` command, which returns us to the host machine and then stops the container.\n",
    "  \n",
    "<center><img src='../_images/running-docker-containers4.png' alt='img' width='740'></center>\n",
    "  \n",
    "**Running a container detached**\n",
    "  \n",
    "We saw a container that just prints text and one that makes more sense to use interactively. A third type of container processes data or can be interacted with in some way externally, for example, a container with a database like Postgres or a data processing script. These are run using `docker run -d`, for detached, followed by the image-name. This makes containers run in the background without printing their output to our shell.\n",
    "  \n",
    "<center><img src='../_images/running-docker-containers5.png' alt='img' width='740'></center>\n",
    "  \n",
    "**Listing and stopping running containers**\n",
    "  \n",
    "After the container has started, the `docker ps` command allows us to see it and any other running containers. The first column contains the container-id, a unique id identifying each container. The next step is stopping containers we don't need anymore. This can be done with the `docker stop` command. To stop the desired container, we pass the container-id to the docker `stop` command.\n",
    "  \n",
    "<center><img src='../_images/running-docker-containers6.png' alt='img' width='740'></center>\n",
    "  \n",
    "**Summary of new commands**\n",
    "  \n",
    "Here is a summary of the new commands we just saw, that you can refer back to when completing the exercises.\n",
    "  \n",
    "<center><img src='../_images/running-docker-containers7.png' alt='img' width='740'></center>\n",
    "  \n",
    "**Let's practice!**\n",
    "  \n",
    "Now it's your turn to start and stop some containers!"
   ]
  },
  {
   "cell_type": "markdown",
   "metadata": {},
   "source": [
    "### Running your first container\n",
    "  \n",
    "Now that you know how to start and stop containers, look at running containers, and much more, let's get your hands dirty! We'll start off by just running a container that outputs some text so we can see that it successfully ran. In other words, it's your turn to run a hello-world container!\n",
    "  \n",
    "---\n",
    "  \n",
    "1. Using the terminal, enter the command to run the hello-world image."
   ]
  },
  {
   "cell_type": "code",
   "execution_count": 1,
   "metadata": {
    "vscode": {
     "languageId": "shellscript"
    }
   },
   "outputs": [
    {
     "name": "stderr",
     "output_type": "stream",
     "text": [
      "Unable to find image 'hello-world:latest' locally\n",
      "latest: Pulling from library/hello-world\n",
      "719385e32844: Pulling fs layer\n",
      "719385e32844: Download complete\n",
      "719385e32844: Pull complete\n",
      "Digest: sha256:dcba6daec718f547568c562956fa47e1b03673dd010fe6ee58ca806767031d1c\n",
      "Status: Downloaded newer image for hello-world:latest\n"
     ]
    },
    {
     "name": "stdout",
     "output_type": "stream",
     "text": [
      "\n",
      "Hello from Docker!\n",
      "This message shows that your installation appears to be working correctly.\n",
      "\n",
      "To generate this message, Docker took the following steps:\n",
      " 1. The Docker client contacted the Docker daemon.\n",
      " 2. The Docker daemon pulled the \"hello-world\" image from the Docker Hub.\n",
      "    (amd64)\n",
      " 3. The Docker daemon created a new container from that image which runs the\n",
      "    executable that produces the output you are currently reading.\n",
      " 4. The Docker daemon streamed that output to the Docker client, which sent it\n",
      "    to your terminal.\n",
      "\n",
      "To try something more ambitious, you can run an Ubuntu container with:\n",
      " $ docker run -it ubuntu bash\n",
      "\n",
      "Share images, automate workflows, and more with a free Docker ID:\n",
      " https://hub.docker.com/\n",
      "\n",
      "For more examples and ideas, visit:\n",
      " https://docs.docker.com/get-started/\n",
      "\n"
     ]
    }
   ],
   "source": [
    "%%sh\n",
    "docker run hello-world"
   ]
  },
  {
   "cell_type": "markdown",
   "metadata": {},
   "source": [
    "Well done! The hello-world image is made by the docker community, it's tiny and often used to check if Docker is correctly up and running in an environment."
   ]
  },
  {
   "cell_type": "markdown",
   "metadata": {},
   "source": [
    "### Running a container in the background\n",
    "  \n",
    "You got some projects set up already on your machine, but an urgent request has come in to fix a bug in your data ingestion pipeline. The pipeline is used to store data from different sources into a Postgres database. To search for the issue, you want to set up the project locally together with a Postgres database in a Docker container to ensure that fixing this bug doesn't affect anything else you are working on.\n",
    "  \n",
    "---\n",
    "  \n",
    "1. Using the terminal, enter the command to run the postgres image in the background.\n",
    "2. Make sure the container is running by listing all containers and verifying that you see a Postgres container running."
   ]
  },
  {
   "cell_type": "code",
   "execution_count": 3,
   "metadata": {
    "vscode": {
     "languageId": "shellscript"
    }
   },
   "outputs": [
    {
     "name": "stderr",
     "output_type": "stream",
     "text": [
      "Unable to find image 'postgres:latest' locally\n",
      "latest: Pulling from library/postgres\n",
      "52d2b7f179e3: Pulling fs layer\n",
      "d9c06b35c8a5: Pulling fs layer\n",
      "ec0d4c36c7f4: Pulling fs layer\n",
      "aa8e32a16a69: Pulling fs layer\n",
      "8950a67e90d4: Pulling fs layer\n",
      "1b47429b7c5f: Pulling fs layer\n",
      "a773f7da97bb: Pulling fs layer\n",
      "7bddc9bbcf13: Pulling fs layer\n",
      "60829730fa39: Pulling fs layer\n",
      "f3d9c845d2f3: Pulling fs layer\n",
      "cfcd43fe346d: Pulling fs layer\n",
      "576335d55cdb: Pulling fs layer\n",
      "caad4144446c: Pulling fs layer\n",
      "8950a67e90d4: Waiting\n",
      "aa8e32a16a69: Waiting\n",
      "1b47429b7c5f: Waiting\n",
      "a773f7da97bb: Waiting\n",
      "7bddc9bbcf13: Waiting\n",
      "f3d9c845d2f3: Waiting\n",
      "60829730fa39: Waiting\n",
      "caad4144446c: Waiting\n",
      "576335d55cdb: Waiting\n",
      "cfcd43fe346d: Waiting\n",
      "d9c06b35c8a5: Verifying Checksum\n",
      "d9c06b35c8a5: Download complete\n",
      "aa8e32a16a69: Verifying Checksum\n",
      "aa8e32a16a69: Download complete\n",
      "ec0d4c36c7f4: Verifying Checksum\n",
      "ec0d4c36c7f4: Download complete\n",
      "1b47429b7c5f: Verifying Checksum\n",
      "1b47429b7c5f: Download complete\n",
      "a773f7da97bb: Verifying Checksum\n",
      "a773f7da97bb: Download complete\n",
      "8950a67e90d4: Verifying Checksum\n",
      "8950a67e90d4: Download complete\n",
      "7bddc9bbcf13: Verifying Checksum\n",
      "7bddc9bbcf13: Download complete\n",
      "f3d9c845d2f3: Verifying Checksum\n",
      "f3d9c845d2f3: Download complete\n",
      "cfcd43fe346d: Verifying Checksum\n",
      "cfcd43fe346d: Download complete\n",
      "52d2b7f179e3: Verifying Checksum\n",
      "52d2b7f179e3: Download complete\n",
      "576335d55cdb: Verifying Checksum\n",
      "576335d55cdb: Download complete\n",
      "caad4144446c: Verifying Checksum\n",
      "caad4144446c: Download complete\n",
      "60829730fa39: Verifying Checksum\n",
      "60829730fa39: Download complete\n",
      "52d2b7f179e3: Pull complete\n",
      "d9c06b35c8a5: Pull complete\n",
      "ec0d4c36c7f4: Pull complete\n",
      "aa8e32a16a69: Pull complete\n",
      "8950a67e90d4: Pull complete\n",
      "1b47429b7c5f: Pull complete\n",
      "a773f7da97bb: Pull complete\n",
      "7bddc9bbcf13: Pull complete\n",
      "60829730fa39: Pull complete\n",
      "f3d9c845d2f3: Pull complete\n",
      "cfcd43fe346d: Pull complete\n",
      "576335d55cdb: Pull complete\n",
      "caad4144446c: Pull complete\n",
      "Digest: sha256:a5e89e5f2679863bedef929c4a7ec5d1a2cb3c045f13b47680d86f8701144ed7\n",
      "Status: Downloaded newer image for postgres:latest\n"
     ]
    },
    {
     "name": "stdout",
     "output_type": "stream",
     "text": [
      "ec1f7b0286b674569fb3afc097c1acb0119c74ee702090dfbb13bc805234697e\n"
     ]
    }
   ],
   "source": [
    "%%sh\n",
    "docker run -d postgres"
   ]
  },
  {
   "cell_type": "code",
   "execution_count": 6,
   "metadata": {
    "vscode": {
     "languageId": "shellscript"
    }
   },
   "outputs": [
    {
     "name": "stdout",
     "output_type": "stream",
     "text": [
      "b841f7a5968c535f28027a4ad35c5d0ace907d4ccd409f309ce2293a8fb335a9\n",
      "CONTAINER ID   IMAGE      COMMAND                  CREATED         STATUS                  PORTS      NAMES\n",
      "b841f7a5968c   postgres   \"docker-entrypoint.s…\"   2 seconds ago   Up Less than a second   5432/tcp   fervent_hypatia\n"
     ]
    }
   ],
   "source": [
    "%%sh\n",
    "docker run -d postgres\n",
    "docker ps"
   ]
  },
  {
   "cell_type": "markdown",
   "metadata": {},
   "source": [
    "Nice work! Using docker containers to run project dependencies is a great way to keep your local environment clean and be able to switch quickly between projects."
   ]
  },
  {
   "cell_type": "markdown",
   "metadata": {},
   "source": [
    "### Stopping a container\n",
    "  \n",
    "You were able to fix the bug in the pipeline and want to get back to other work; before you can resume your previous task, you would like to shut down the database you used to run the pipeline app locally. Which answer correctly cleans up the running Postgres container?\n",
    "  \n",
    "---\n",
    "  \n",
    "Possible Answers\n",
    "  \n",
    "- [ ] docker close container-id\n",
    "- [ ] docker exit container-id\n",
    "- [x] docker stop container-id\n",
    "- [ ] docker end container-id"
   ]
  },
  {
   "cell_type": "markdown",
   "metadata": {},
   "source": [
    "That's correct! It's always good practice to stop containers once you're done using them, or one day you'll find a bunch of running containers on your machine without knowing if they are safe to shut down."
   ]
  },
  {
   "cell_type": "markdown",
   "metadata": {},
   "source": [
    "### An interactive container\n",
    "  \n",
    "Another bug has popped up in the data ingestion pipeline; this time, however, you got some pointers on where the issue might be. Your colleagues tell you the application cannot start inside its Ubuntu container. To debug the issue you want to start an Ubuntu container and try to run the application yourself to find out what's going wrong.\n",
    "  \n",
    "Select the right combination of commands to:\n",
    "  \n",
    "- Run an ubuntu container and get an interactive shell inside of the container.\n",
    "- Close the container to go back to the host after you got an interactive shell in the container and found the issue with the pipeline.\n",
    "  \n",
    "You can use the shell to try out the possible commands.\n",
    "  \n",
    "---\n",
    "  \n",
    "Possible answers\n",
    "  \n",
    "- [ ] docker run -it ubuntu and stop\n",
    "- [ ] docker run ubuntu -it and stop\n",
    "- [ ] docker run ubuntu -shell and exit\n",
    "- [x] docker run -it ubuntu and exit\n",
    "  \n",
    "Exactly! The `i` and `t` flag are actually two separate flags with different effects. However they are almost always used together and it's much easier to remember them as the flag to make a container interactive."
   ]
  },
  {
   "cell_type": "markdown",
   "metadata": {},
   "source": [
    "## Working with Docker containers\n",
    "  \n",
    "Now that we know how to run containers in various ways, interactively or in the background. It is time to learn some commands that will simplify our life when working with containers.\n",
    "  \n",
    "**Listing containers**\n",
    "  \n",
    "When there are only a few containers, it's easy to find them in the list that `docker ps` returns. However, if you're working with lots of containers, it can quickly become challenging to identify the right one.\n",
    "  \n",
    "<center><img src='../_images/working-with-docker-containers.png' alt='img' width='740'></center>\n",
    "  \n",
    "**Named containers**\n",
    "  \n",
    "To solve this, the `docker run` command has a `--name` flag that allows us to name a container. The name then shows up in the last column of the `docker ps` output. Here we created a container from the Postgres image and called it `db_pipeline_v1`. For any commands that require us to specify a container, we can use either the container-id or container name. For example, in exactly the same way we could stop containers using their id, we can use their name in `docker stop`.\n",
    "  \n",
    "<center><img src='../_images/working-with-docker-containers1.png' alt='img' width='740'></center>\n",
    "  \n",
    "**Filtering running containers**\n",
    "  \n",
    "When using `docker ps` with so many containers that even naming them doesn't allow us to find them. We can use `docker ps` with the `-f`, for filter flag to find a specific container. For example, `docker ps -f` followed by, in quotes, `'name=db_pipeline_v1'`. This will show you only the details of containers with the name you specified in the filter.\n",
    "  \n",
    "<center><img src='../_images/working-with-docker-containers2.png' alt='img' width='740'></center>\n",
    "  \n",
    "**Container logs**\n",
    "  \n",
    "Now that we know how to find our running containers, it will also be useful to see their output, for example, to debug any issues. To look at the output a container has generated, we can use the `docker logs` command followed by the container id. Most containers quickly generate a lot of output, so you will often have to scroll through the result of `docker logs` to find what you're looking for.\n",
    "  \n",
    "<center><img src='../_images/working-with-docker-containers3.png' alt='img' width='740'></center>\n",
    "  \n",
    "**Live logs**\n",
    "  \n",
    "If instead, you want to follow the logs your container is generating in real-time, you can use `docker logs -f` together with the f, for follow, flag. You will see any logs the container generates live. Even though `docker ps` also has a `-f` flag, the `docker ps -f` flag allows us to filter. When working with `docker logs` instead, the `-f` flag has another effect, allowing us to follow a container its logs. After using `docker logs`, you will see the output of a running container until either the end of the logs or until you press `control+c` to exit the log view.\n",
    "  \n",
    "<center><img src='../_images/working-with-docker-containers4.png' alt='img' width='740'></center>\n",
    "  \n",
    "**Cleaning up**\n",
    "  \n",
    "Previously, we learned how to stop containers. However, a stopped container is not fully gone; the stopped container still exists and is occupying some space on our hard drive. To fully remove an already stopped container, for example, because we want to reuse its name, we use `docker container rm` followed by the container-id to remove the container.\n",
    "  \n",
    "<center><img src='../_images/working-with-docker-containers5.png' alt='img' width='740'></center>\n",
    "  \n",
    "**Summary of new commands**\n",
    "  \n",
    "Here is a summary of the new commands we just saw that you can refer back to when completing the exercises.\n",
    "  \n",
    "<center><img src='../_images/working-with-docker-containers6.png' alt='img' width='740'></center>\n",
    "  \n",
    "**Let's practice!**\n",
    "  \n",
    "Now that we have learned a bunch of new commands, let's get some practice with them."
   ]
  },
  {
   "cell_type": "markdown",
   "metadata": {},
   "source": [
    "### What is my container doing?\n",
    "  \n",
    "You've started a container to analyze some data. Usually, this container exits after a few minutes, but this time it just keeps running. Find the issue by looking at the logs of the already running container.\n",
    "  \n",
    "---\n",
    "  \n",
    "Possible answers\n",
    "  \n",
    "- [ ] The workflow can't find the input data.\n",
    "- [x] The workflow can't find its configuration file.\n",
    "- [ ] The workflow isn't using the correct version of python.\n",
    "- [ ] All of the above.\n",
    "  \n",
    "```sh\n",
    "docker ps\n",
    "docker logs <container-id >\n",
    "```\n",
    "  \n",
    "Exactly! Looking at logs is a great way to debug issues, also when working with containers."
   ]
  },
  {
   "cell_type": "markdown",
   "metadata": {},
   "source": [
    "### Helping a colleague\n",
    "  \n",
    "You're working on a project of your own and have quite a few containers running when your colleague asks you to debug an issue he's having. You've got some time to help your colleague, but you want to make sure you can find his container among all the ones you already have running.\n",
    "  \n",
    "---\n",
    "  \n",
    "1. Using the terminal, enter the command to run the `my_project` image detached from your shell while giving it the `colleague_project` name.\n",
    "2. The container should be running now. Make sure it is by filtering the running containers using the name `colleague_project` you gave the container.\n",
    "3. Now that you're sure the container is running look at the logs using the container's name, `colleague_project`."
   ]
  },
  {
   "cell_type": "code",
   "execution_count": null,
   "metadata": {
    "vscode": {
     "languageId": "shellscript"
    }
   },
   "outputs": [],
   "source": [
    "%%sh\n",
    "docker run -d --name colleague_project my_project\n",
    "docker ps -f 'name=colleague_project'\n",
    "docker logs colleague_project"
   ]
  },
  {
   "cell_type": "markdown",
   "metadata": {},
   "source": [
    "Nice work! Naming containers really helps keep an overview once you're working on multiple tasks simultaneously."
   ]
  },
  {
   "cell_type": "markdown",
   "metadata": {},
   "source": [
    "### Cleaning up containers\n",
    "  \n",
    "You were able to find the issue with your colleague's container and help him fix it. Before you return to your project, you want to clean up the container you just started to help your colleague.\n",
    "  \n",
    "---\n",
    "  \n",
    "1. Using the terminal, enter the command to stop the `colleague_project` container.\n",
    "2. Now that the container is stopped use the terminal to remove the container."
   ]
  },
  {
   "cell_type": "code",
   "execution_count": null,
   "metadata": {
    "vscode": {
     "languageId": "shellscript"
    }
   },
   "outputs": [],
   "source": [
    "%%sh\n",
    "docker stop colleague_project\n",
    "docker rm colleague_project"
   ]
  },
  {
   "cell_type": "markdown",
   "metadata": {},
   "source": [
    "Nice cleaning! It never hurts to keep a clean environment, and removing old containers is a good step in that direction."
   ]
  },
  {
   "cell_type": "markdown",
   "metadata": {},
   "source": [
    "## Managing local docker images\n",
    "  \n",
    "Until now, images have been made available in the exercises when you need them. In practice, images are either custom-made or downloaded from Docker Hub.\n",
    "  \n",
    "**Docker Hub**\n",
    "  \n",
    "Docker Hub is a registry of community-made Docker images. In other words, it's a website from which we can download thousands of pre-made images for all kinds of use cases. For any common use-case, we will find an image on Docker Hub.\n",
    "  \n",
    "<center><img src='../_images/managing-local-docker-images.png' alt='img' width='740'></center>\n",
    "  \n",
    "**Pulling an image**\n",
    "  \n",
    "Downloading an image from Docker Hub is called pulling an image. The command to pull an image is `docker pull`, followed by the name of the image you want to download. For example, you can download the hello-world, postgres, and ubuntu image from Docker Hub using `docker pull`. When pulling an image using just the image name, we will always get the latest version available of the image.\n",
    "  \n",
    "<center><img src='../_images/managing-local-docker-images1.png' alt='img' width='740'></center>\n",
    "  \n",
    "**Image versions**\n",
    "  \n",
    "We can find older versions of an image on hub dot docker dot com. The example you see here is for the ubuntu image. To pull a specific version, we use `docker pull image-name` followed by a colon and then the image-version. A version can be a number, some text, or a combination of both. For example, if we want the 22.04 release of ubuntu, we can use `docker pull ubuntu:22.04` or `:jammy`.\n",
    "  \n",
    "<center><img src='../_images/managing-local-docker-images2.png' alt='img' width='740'></center>\n",
    "  \n",
    "**Listing images**\n",
    "  \n",
    "Now that we know how to pull images, we need a way to view the images we have available on our machine. For this, we have the `docker images` command, which will give us a list of all available images and tags. It will also tell us when the image was created, the size of the image on disk, and the image-id, which is a unique id to identify the image.\n",
    "  \n",
    "<center><img src='../_images/managing-local-docker-images3.png' alt='img' width='740'></center>\n",
    "  \n",
    "**Removing images**\n",
    "  \n",
    "Docker only has a limited amount of space it can use on our disk. Previously we saw how to remove containers using `docker container rm`. Similarly, we can use `docker image rm` to clear space for more containers and images. A container is a running image; a side effect of this is that you can only delete an image once there are no more containers based on it. If we try to delete an image for which we still have a container on our system, we'll get the warning you can see at the bottom of the slide. This error message also includes the container's id based on the image we're trying to remove. We can use the `docker container rm` command to remove the container, after which we can remove the image.\n",
    "  \n",
    "<center><img src='../_images/managing-local-docker-images4.png' alt='img' width='740'></center>\n",
    "  \n",
    "**Cleaning up containers**\n",
    "  \n",
    "It's common to have multiple containers based on a single image, which can make it a tedious task to one by one remove all containers before you can remove an image. To more easily clear all stopped containers, we can use `docker container prune`.\n",
    "  \n",
    "<center><img src='../_images/managing-local-docker-images5.png' alt='img' width='740'></center>\n",
    "  \n",
    "**Cleaning up images**\n",
    "  \n",
    "Then we can use `docker image prune -a` to remove all unused images. The `-a` flag, which stands for all, makes it so that unused containers are removed and not only dangling images.\n",
    "  \n",
    "<center><img src='../_images/managing-local-docker-images6.png' alt='img' width='740'></center>\n",
    "  \n",
    "**Dangling images**\n",
    "  \n",
    "A dangling image is an image that no longer has a name because the name has been re-used for another image. This frequently occurs when creating our own images. For example, if we create an image called testsql, but we find a mistake and change our image slightly, the previous testsql image will then become dangling as our new fixed image now has the testsql name.\n",
    "  \n",
    "<center><img src='../_images/managing-local-docker-images7.png' alt='img' width='740'></center>\n",
    "  \n",
    "**Summary of new commands**\n",
    "  \n",
    "Here is a summary of the new commands we just saw that you can refer back to when completing the exercises.\n",
    "  \n",
    "<center><img src='../_images/managing-local-docker-images8.png' alt='img' width='740'></center>\n",
    "  \n",
    "**Let's practice!**\n",
    "  \n",
    "Now it's your turn to practice pulling and removing some images. Good luck!"
   ]
  },
  {
   "cell_type": "markdown",
   "metadata": {},
   "source": [
    "### Pulling your first image\n",
    "  \n",
    "Let's get some practice working with images. To start, we've removed the hello-world image from your session. Make it accessible locally again by downloading it from docker-hub.\n",
    "  \n",
    "---\n",
    "  \n",
    "1. Using the terminal, enter the command to download the `hello-world` container."
   ]
  },
  {
   "cell_type": "code",
   "execution_count": null,
   "metadata": {
    "vscode": {
     "languageId": "shellscript"
    }
   },
   "outputs": [],
   "source": [
    "%%sh\n",
    "docker pull hello-world"
   ]
  },
  {
   "cell_type": "markdown",
   "metadata": {},
   "source": [
    "Great work pulling your first image! If you want to know what else is available, take a look at `hub.docker.com`."
   ]
  },
  {
   "cell_type": "markdown",
   "metadata": {},
   "source": [
    "### Pulling a specific tag\n",
    "  \n",
    "You were helping a colleague by looking at an issue they were having with installing some of their tools on the ubuntu image. You couldn't reproduce the issues so far, and just realized you might be trying on a different version of Ubuntu.\n",
    "  \n",
    "---\n",
    "  \n",
    "1. Using the terminal, enter the command to see all images available on your machine.\n",
    "2. Seems like you are not using the same version as your colleague, who is using the 22.04 tag of ubuntu. Pull the right version, 22.04, of the ubuntu image."
   ]
  },
  {
   "cell_type": "code",
   "execution_count": null,
   "metadata": {
    "vscode": {
     "languageId": "shellscript"
    }
   },
   "outputs": [],
   "source": [
    "%%sh\n",
    "docker images -a\n",
    "docker pull ubuntu:22.04"
   ]
  },
  {
   "cell_type": "markdown",
   "metadata": {},
   "source": [
    "Well done! It's always good practice to check if your using the expected version of an image."
   ]
  },
  {
   "cell_type": "markdown",
   "metadata": {},
   "source": [
    "### Cleaning up images\n",
    "  \n",
    "The project you were working on is done. You had to use and try several docker containers and images and would like to clear up some space on your system before starting your next project. You remember using the ubuntu image last and know you won't need it for your next project.\n",
    "  \n",
    "---\n",
    "  \n",
    "1. Using the terminal, enter the command to remove the ubuntu image.\n",
    "2. The ubuntu image failed to remove since it still has a container using it. To be sure you can clean up your images, remove all stopped containers.\n",
    "3. Now that all stopped containers are removed, also remove all unused images."
   ]
  },
  {
   "cell_type": "code",
   "execution_count": null,
   "metadata": {
    "vscode": {
     "languageId": "shellscript"
    }
   },
   "outputs": [],
   "source": []
  }
 ],
 "metadata": {
  "kernelspec": {
   "display_name": "Python 3",
   "language": "python",
   "name": "python3"
  },
  "language_info": {
   "codemirror_mode": {
    "name": "ipython",
    "version": 3
   },
   "file_extension": ".py",
   "mimetype": "text/x-python",
   "name": "python",
   "nbconvert_exporter": "python",
   "pygments_lexer": "ipython3",
   "version": "3.11.0"
  },
  "orig_nbformat": 4
 },
 "nbformat": 4,
 "nbformat_minor": 2
}
