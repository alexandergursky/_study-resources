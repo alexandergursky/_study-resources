{
 "cells": [
  {
   "cell_type": "markdown",
   "metadata": {},
   "source": [
    "# Writing Your Own Docker Images\n",
    "  \n",
    "Once you are able to manage images and containers, it’s time to create your own. In chapter 3, you’ll build your own images using Dockerfiles. Dockerfiles are text files that include everything needed for Docker to build an image. You’ll learn how to create images and will get an introduction to all the essential Dockerfile instructions like FROM, RUN, COPY, and more. By the end of this chapter, you’ll have insight into how Docker makes images and be able to create optimized Docker images from scratch."
   ]
  },
  {
   "cell_type": "markdown",
   "metadata": {},
   "source": [
    "## Resources\n",
    "  \n",
    "**Notebook Syntax**\n",
    "  \n",
    "<span style='color:#7393B3'>NOTE:</span>  \n",
    "- Denotes additional information deemed to be *contextually* important\n",
    "- Colored in blue, HEX #7393B3\n",
    "  \n",
    "<span style='color:#E74C3C'>WARNING:</span>  \n",
    "- Significant information that is *functionally* critical  \n",
    "- Colored in red, HEX #E74C3C\n",
    "  \n",
    "---\n",
    "  \n",
    "**Links**\n",
    "  \n",
    "[Docker Website](https://www.docker.com)  \n",
    "  \n",
    "---\n",
    "  \n",
    "**Notable Functions**\n",
    "  \n",
    "<table>\n",
    "  <tr>\n",
    "    <th>Index</th>\n",
    "    <th>Operator</th>\n",
    "    <th>Use</th>\n",
    "  </tr>\n",
    "  <tr>\n",
    "    <td>1</td>\n",
    "    <td>NaN</td>\n",
    "    <td>NaN</td>\n",
    "  </tr>\n",
    "</table>\n",
    "  \n",
    "---\n",
    "  \n",
    "**Language and Library Information**  \n",
    "  \n",
    "CLI (Command Line Interface)\n",
    "  \n",
    "---\n",
    "  \n",
    "**Miscellaneous Notes**\n",
    "  \n",
    "NaN"
   ]
  },
  {
   "cell_type": "markdown",
   "metadata": {},
   "source": [
    "## Creating your own Docker images\n",
    "  \n",
    "Now that we know how to work with docker images and containers, it's time to create our own images.\n",
    "  \n",
    "**Creating images with Dockerfiles**\n",
    "  \n",
    "Docker images are the recipes or blueprints for Docker containers. To create this blueprint, we must write down a list of instructions in what is called a Dockerfile. A Dockerfile is a text file containing all the commands we would run in the command line to install the software we need, with the addition of some Docker-specific syntax. Conveniently this file should be called Dockerfile for Docker to be able to find it.\n",
    "  \n",
    "<center><img src='../_images/creating-your-own-docker-images.png' alt='img' width='740'></center>\n",
    "  \n",
    "**Starting a Dockerfile**\n",
    "  \n",
    "Just like when we would follow a recipe, Docker runs the lines in a Dockerfile from top to bottom. The first line in a Dockerfile is always the `FROM` instruction. This instruction indicates to Docker which image to start from. We can base our images on any other image, Postgres, Ubuntu, another image you made yourself, or even the hello-world image. As with pulling an image, if you want to start from a specific version, you can specify the version right after the image name, separating both with a colon.\n",
    "  \n",
    "<center><img src='../_images/creating-your-own-docker-images1.png' alt='img' width='740'></center>\n",
    "  \n",
    "**Building a Dockerfile**\n",
    "  \n",
    "With the `FROM` instruction, we can create the most basic Dockerfile; we can then create an image from this Dockerfile using the Docker build command. The `docker build` command is followed by the location of the Dockerfile we want to build. If our Dockerfile is in the current folder, this is simply a dot. When running Docker build, in the last line of the output, we can see the id or hash docker assigns the new image. The hash starts by indicating its type, sha256, in this case. This is followed by the unique hash, which starts with a67f for the example on the slide.\n",
    "  \n",
    "<center><img src='../_images/creating-your-own-docker-images2.png' alt='img' width='740'></center>\n",
    "  \n",
    "**Naming our image**\n",
    "  \n",
    "If we want to give our image a more recognizable name, we can use the `-t` for tag flag followed by the name we want to give our image. If we also want to give a version to our image, we can add a colon and the version after the image name. In both cases we end the docker build command with a dot indicating our Dockerfile is in the current working directory. Once Docker has successfully built our image from our Dockerfile, we can run and use our image just like the images we downloaded from Dockerhub.\n",
    "  \n",
    "<center><img src='../_images/creating-your-own-docker-images3.png' alt='img' width='740'></center>\n",
    "  \n",
    "**Customizing images**\n",
    "  \n",
    "Now that we can create a very basic image from a Dockerfile, the next step is to start customizing our image. To customize our Dockerfile we will use the `RUN` instruction. The `RUN` instruction allows us to run any valid shell command while building an image. To make an image that runs a python data analysis, we start from the ubuntu image, which has Ubuntu installed, by specifying the `FROM ubuntu` instruction followed by `RUN apt-get` update. `apt-get` is a package manager which enables us to install all kinds of software. The `apt-get` update command we just added to our Dockerfile will update apt-get so it knows what the most up-to-date version is of all the different software it can install for us. Using another `RUN` instruction on the following line, we download python using `RUN apt-get install python3`. Like we can see at the bottom of the slide, some bash commands require user input. While a Docker image is building it is not possible to manually give any input to the bash commands docker runs. Instead we can pass the dash `-y` flag to `apt-get install` to make sure it doesn't need any input.\n",
    "  \n",
    "<center><img src='../_images/creating-your-own-docker-images4.png' alt='img' width='740'></center>\n",
    "  \n",
    "**Building a non-trivial Dockerfile**\n",
    "  \n",
    "Once we add `RUN` instructions to our Dockerfiles, we'll notice that building a Dockerfile can take seconds to sometimes tens of minutes because Docker is actually running the commands specified with `RUN`. For example, building a Dockerfile with `FROM ubuntu and RUN apt-get update`, will take the same time as us running apt-get update on ubuntu, which is 2 seconds for the example on the slide.\n",
    "  \n",
    "<center><img src='../_images/creating-your-own-docker-images5.png' alt='img' width='740'></center>\n",
    "  \n",
    "**Summary**\n",
    "  \n",
    "Here is a summary of the new commands and instructions you can refer back to when completing the exercises.\n",
    "  \n",
    "<center><img src='../_images/creating-your-own-docker-images6.png' alt='img' width='740'></center>\n",
    "  \n",
    "**Let's practice!**\n",
    "  \n",
    "Now that we've seen how to write a basic Dockerfile let's give it a go ourselves!"
   ]
  },
  {
   "cell_type": "markdown",
   "metadata": {},
   "source": [
    "### Building your first image\n",
    "  \n",
    "Let's build your first image! We've created a Dockerfile for you, and you can see it in your current working directory using the `ls` command. You can look at its content using `cat Dockerfile` or using `nano`.\n",
    "  \n",
    "---\n",
    "  \n",
    "1. Using the terminal, enter the command to build an image from the Dockerfile in your current working directory.\n",
    "2. Well done! While it's possible to build an image without naming it, we usually want to give our image a name. Using the terminal, enter the command to build an image called `my_first_image` from the Dockerfile in your current working directory."
   ]
  },
  {
   "cell_type": "code",
   "execution_count": null,
   "metadata": {
    "vscode": {
     "languageId": "shellscript"
    }
   },
   "outputs": [],
   "source": [
    "%%sh\n",
    "docker build .\n",
    "docker build -t my_first_image ."
   ]
  },
  {
   "cell_type": "markdown",
   "metadata": {},
   "source": [
    "Nicely built! Now that you know how to build an image from a Dockerfile, let's try adding some instructions to a Dockerfile."
   ]
  },
  {
   "cell_type": "markdown",
   "metadata": {},
   "source": [
    "### Working in the command-line\n",
    "  \n",
    "A Dockerfile is just a textfile and creating or editing it can be done using any text editor. However since the default way to work with Docker is through the Command Line Interface, it's convenient to also edit Dockerfiles using the command line. Let's refresh our memory on how to navigate the file system and create or edit a Dockerfile with the command line.\n",
    "  \n",
    "---\n",
    "  \n",
    "1. Create a file called `Dockerfile` in the current working directory.\n",
    "- Use `touch Dockerfile`; the `touch` command will create an empty file for you.\n",
    "- Or use `nano Dockerfile`, which will create an empty file but also open the `nano` text editor, which you then have to save using `CTRL+S` after which you can exit with `CTRL+X`.\n",
    "2. Now that you've created a new file let's add a line of text to it.\n",
    "- Open the file using `nano Dockerfile`.\n",
    "- add `FROM ubuntu `to the start of the file.\n",
    "- Use `CTRL+S` to save your changes.\n",
    "- Followed by `CTRL+X` to exit `nano`.\n",
    "3. Using `nano` to edit a file is often the most intuitive way; however, you can also use `echo` combined with a double pipe (`>>`) to append to files without opening them. Let's use `echo` to append `RUN apt-get update` to our Dockerfile.\n",
    "- Type the first part of the command, `echo \"RUN apt-get update\"` which will print the text between the quotes, don't press enter yet.\n",
    "- Then add the double pipe `>>`, which will redirect the output.\n",
    "- Followed by Dockerfile to make the output of `echo` append to the Dockerfile.\n",
    "- Now execute the command by pressing the enter key.\n",
    "4. Well done! You successfully created and made changes to a file. Often while working in the shell, you want to quickly check the contents of a file without making changes to it. This is easily done using the `cat` command.\n",
    "- Check the contents of the Dockerfile using the `cat` command, `cat` expects a filename as its first and only argument."
   ]
  },
  {
   "cell_type": "code",
   "execution_count": null,
   "metadata": {
    "vscode": {
     "languageId": "shellscript"
    }
   },
   "outputs": [],
   "source": [
    "%%sh\n",
    "touch Dockerfile\n",
    "nano Dockerfile\n",
    "echo \"RUN apt-get update\" >> Dockerfile\n",
    "cat Dockerfile"
   ]
  },
  {
   "cell_type": "markdown",
   "metadata": {},
   "source": [
    "Well done! Now that you've refreshed your memory on how to work with `touch`, `nano`, and `cat`, let's get back to using Docker and writing Dockerfiles."
   ]
  }
 ],
 "metadata": {
  "kernelspec": {
   "display_name": "Python 3",
   "language": "python",
   "name": "python3"
  },
  "language_info": {
   "name": "python",
   "version": "3.11.0"
  },
  "orig_nbformat": 4
 },
 "nbformat": 4,
 "nbformat_minor": 2
}
