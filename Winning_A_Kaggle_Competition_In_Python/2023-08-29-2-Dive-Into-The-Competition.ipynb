{
 "cells": [
  {
   "cell_type": "markdown",
   "metadata": {},
   "source": [
    "# Dive into the Competition\n",
    "  \n",
    "Now that you know the basics of Kaggle competitions, you will learn how to study the specific problem at hand. You will practice EDA and get to establish correct local validation strategies. You will also learn about data leakage.\n"
   ]
  },
  {
   "cell_type": "markdown",
   "metadata": {},
   "source": [
    "## Resources\n",
    "  \n",
    "**Notebook Syntax**\n",
    "  \n",
    "<span style='color:#7393B3'>NOTE:</span>  \n",
    "- Denotes additional information deemed to be *contextually* important\n",
    "- Colored in blue, HEX #7393B3\n",
    "  \n",
    "<span style='color:#E74C3C'>WARNING:</span>  \n",
    "- Significant information that is *functionally* critical  \n",
    "- Colored in red, HEX #E74C3C\n",
    "  \n",
    "---\n",
    "  \n",
    "**Links**\n",
    "  \n",
    "[NumPy Documentation](https://numpy.org/doc/stable/user/index.html#user)  \n",
    "[Pandas Documentation](https://pandas.pydata.org/docs/user_guide/index.html#user-guide)  \n",
    "[Matplotlib Documentation](https://matplotlib.org/stable/index.html)  \n",
    "[Seaborn Documentation](https://seaborn.pydata.org)  \n",
    "[Scikit-Learn Documentation](https://scikit-learn.org/stable/)  \n",
    "[XGBoost Documentation](https://xgboost.readthedocs.io/en/stable/python/index.html)  \n",
    "  \n",
    "---\n",
    "  \n",
    "**Notable Functions**\n",
    "  \n",
    "<table>\n",
    "  <tr>\n",
    "    <th>Index</th>\n",
    "    <th>Operator</th>\n",
    "    <th>Use</th>\n",
    "  </tr>\n",
    "  <tr>\n",
    "    <td>1</td>\n",
    "    <td>seaborn.kdeplot</td>\n",
    "    <td>Plotting Kernel Density Estimates using Seaborn library.</td>\n",
    "  </tr>\n",
    "  <tr>\n",
    "    <td>2</td>\n",
    "    <td>df.nunique</td>\n",
    "    <td>Counting the number of unique values in a DataFrame <code>df</code>.</td>\n",
    "  </tr>\n",
    "  <tr>\n",
    "    <td>3</td>\n",
    "    <td>df.select_dtypes</td>\n",
    "    <td>Selecting columns from a DataFrame <code>df</code> based on their data types.</td>\n",
    "  </tr>\n",
    "  <tr>\n",
    "    <td>4</td>\n",
    "    <td>sklearn.ensemble.RandomForestRegressor</td>\n",
    "    <td>Creating a Random Forest Regressor model using scikit-learn's ensemble module.</td>\n",
    "  </tr>\n",
    "  <tr>\n",
    "    <td>5</td>\n",
    "    <td>xgboost.DMatrix</td>\n",
    "    <td>Creating a DMatrix object used in XGBoost to store data and labels.</td>\n",
    "  </tr>\n",
    "  <tr>\n",
    "    <td>6</td>\n",
    "    <td>sklearn.metrics.mean_squared_error</td>\n",
    "    <td>Calculating the mean squared error between true and predicted values using scikit-learn's metrics module.</td>\n",
    "  </tr>\n",
    "</table>\n",
    "\n",
    "  \n",
    "---\n",
    "  \n",
    "**Language and Library Information**  \n",
    "  \n",
    "Python 3.11.0  \n",
    "  \n",
    "Name: numpy  \n",
    "Version: 1.24.3  \n",
    "Summary: Fundamental package for array computing in Python  \n",
    "  \n",
    "Name: pandas  \n",
    "Version: 2.0.3  \n",
    "Summary: Powerful data structures for data analysis, time series, and statistics  \n",
    "  \n",
    "Name: matplotlib  \n",
    "Version: 3.7.2  \n",
    "Summary: Python plotting package  \n",
    "  \n",
    "Name: seaborn  \n",
    "Version: 0.12.2  \n",
    "Summary: Statistical data visualization  \n",
    "  \n",
    "Name: scikit-learn  \n",
    "Version: 1.3.0  \n",
    "Summary: A set of python modules for machine learning and data mining  \n",
    "  \n",
    "Name: xgboost  \n",
    "Version: 1.7.5  \n",
    "Summary: XGBoost Python Package  \n",
    "  \n",
    "---\n",
    "  \n",
    "**Miscellaneous Notes**\n",
    "  \n",
    "<span style='color:#7393B3'>NOTE:</span>  \n",
    "  \n",
    "`python3.11 -m IPython` : Runs python3.11 interactive jupyter notebook in terminal.\n",
    "  \n",
    "`nohup ./relo_csv_D2S.sh > ./output/relo_csv_D2S.log &` : Runs csv data pipeline in headless log.  \n",
    "  \n",
    "`print(inspect.getsourcelines(test))` : Get self-defined function schema  \n",
    "  \n",
    "<span style='color:#7393B3'>NOTE:</span>  \n",
    "  \n",
    "Snippet to plot all built-in matplotlib styles :\n",
    "  \n",
    "```python\n",
    "\n",
    "x = np.arange(-2, 8, .1)\n",
    "y = 0.1 * x ** 3 - x ** 2 + 3 * x + 2\n",
    "fig = plt.figure(dpi=100, figsize=(10, 20), tight_layout=True)\n",
    "available = ['default'] + plt.style.available\n",
    "for i, style in enumerate(available):\n",
    "    with plt.style.context(style):\n",
    "        ax = fig.add_subplot(10, 3, i + 1)\n",
    "        ax.plot(x, y)\n",
    "    ax.set_title(style)\n",
    "```\n",
    "  "
   ]
  },
  {
   "cell_type": "code",
   "execution_count": 12,
   "metadata": {},
   "outputs": [],
   "source": [
    "import numpy as np                  # Numerical Python:         Arrays and linear algebra\n",
    "import pandas as pd                 # Panel Datasets:           Dataset manipulation\n",
    "import matplotlib.pyplot as plt     # MATLAB Plotting Library:  Visualizations\n",
    "import seaborn as sns               # Seaborn:                  Visualizations\n",
    "\n",
    "# Setting a standard figure size\n",
    "plt.rcParams['figure.figsize'] = (8, 8)\n",
    "\n",
    "# Setting a standard style\n",
    "plt.style.use('ggplot')\n",
    "\n",
    "# Set the maximum number of columns to be displayed\n",
    "pd.set_option('display.max_columns', 50)"
   ]
  },
  {
   "cell_type": "markdown",
   "metadata": {},
   "source": [
    "## Understand the problem\n",
    "  \n",
    "In the previous chapter, we got acquainted with what Machine Learning competition actually looks like, and had an overview of the general competition process. Now it's time to start solving the problems!\n",
    "  \n",
    "**Solution workflow**\n",
    "  \n",
    "Before proceeding, let's take a look at the broad scheme that we'll be using throughout the subsequent chapters. Let's call it a 'solution workflow'. Typically it consists of four major stages. First, we start by understanding the problem and the competition metric.\n",
    "  \n",
    "Then we need to make some EDA (exploratory data analysis) in order to see and understand the data we're working with.\n",
    "  \n",
    "The next very important step is to establish the local validation strategy. We already know that its goal is to prevent overfitting.\n",
    "  \n",
    "Finally, the longest part of the competition is Modeling, which includes continuous improvements of the solution. In this chapter, we will talk about the first three blocks. The third and fourth chapters are entirely devoted to Modeling.\n",
    "  \n",
    "<center><img src='../_images/solution-workflow.png' alt='img' width='740'></center>\n",
    "  \n",
    "**Understand the problem**\n",
    "  \n",
    "To understand the problem we need to perform the following steps. Determine the data type we will be dealing with. Is it the usual tabular data? Or maybe we're given time series data. Or it's unstructured data like images. Or text, and so on. It could be even a mix of multiple data types. \n",
    "  \n",
    "In this course, we mostly concentrate on the tabular data and time series. No worries, the general solution workflow is the same for any data type. The next step is to determine the problem type. We've talked about it a little in the previous chapter. Here we should select between classification, regression, ranking and so on. Lastly, we should get familiar with the metric being optimized. As we already know, every competition has a single metric. It is used by Kaggle to evaluate the submissions and to determine the best performing solution.\n",
    "  \n",
    "**Metric definition**\n",
    "  \n",
    "Generally, the majority of the metrics can be found in the `sklearn.metrics` library. However, there are some special competition metrics that are not available in scikit-learn. In such cases, we have to create metrics manually. Suppose we're solving the competition problem with Root Mean Squared Logarithmic Error as an evaluation metric. This metric is not implemented in scikit-learn. Its formula is presented on the slide. $N$ is the number of observations in the test set, $y$ is the actual value, $\\hat{y}$ is the predicted value. So, it is a usual Root Mean Squared Error in a logarithmic scale. In this situation, we have to define a custom function that takes as input the true and predicted values, and outputs the metric value. Firstly, we compute squares under the sum using numpy log and power methods. Finally, we get the square root of the mean over all the observations, and return the result.\n",
    "  \n",
    "$\\Large RMSLE = \\sqrt{\\frac{1}{N}\\sum_{i=1}^N (\\log(y_i + 1) - \\log(\\hat{y_i} + 1))^2}$\n",
    "  \n",
    "**Let's practice!**\n",
    "  \n",
    "The main takeaway from this lesson is that before building any models, we should perform some preliminary steps to understand the data and the problem we're facing. So, let's practice with other problem types and metrics!"
   ]
  },
  {
   "cell_type": "markdown",
   "metadata": {},
   "source": [
    "### Understand the problem type\n",
    "  \n",
    "As you've just seen, the first step of the solution workflow is to skim through the problem statement. Your goal now is to determine data types available as well as the problem type for the Avito Demand Prediction Challenge. The evaluation metric in this competition is the Root Mean Squared Error. The problem definition is presented below.\n",
    "  \n",
    "\"In this Kaggle competition, Avito is challenging you to predict demand for an online advertisement based on its full description (price, title, images, etc.), its context (geo position, similar ads already posted) and historical demand for similar ads in the past.\"\n",
    "  \n",
    "---\n",
    "  \n",
    "What problem type are you facing, and what data do you have at your disposal?\n",
    "  \n",
    "Possible Answers\n",
    "  \n",
    "- [x] This is a regression problem with tabular, time series, image and text data.\n",
    "- [ ] This is a regression problem with tabular, text and image data.\n",
    "- [ ] This is a classification problem with tabular, time series, image and text data.\n",
    "- [ ] This is a clustering problem with tabular, text and image data.\n",
    "  \n",
    "That's correct! This competition contains a mix of various structured and unstructured data."
   ]
  },
  {
   "cell_type": "markdown",
   "metadata": {},
   "source": [
    "### Define a competition metric\n",
    "  \n",
    "Competition metric is used by Kaggle to evaluate your submissions. Moreover, you also need to measure the performance of different models on a local validation set.\n",
    "  \n",
    "For now, your goal is to manually develop a couple of competition metrics in case if they are not available in sklearn.metrics.\n",
    "  \n",
    "In particular, you will define:\n",
    "  \n",
    "Mean Squared Error (MSE) for the regression problem:\n",
    "  \n",
    "$\\text{MSE} = \\frac{1}{N}\\sum_{i=1}^{N}{(y_i - \\hat{y}_i)^2}$\n",
    "  \n",
    "Logarithmic Loss (LogLoss) for the binary classification problem:\n",
    "  \n",
    "$\\text{LogLoss} = -\\frac{1}{N}\\sum_{i=1}^{N}{(y_i\\ln p_i + (1-y_i)\\ln (1-p_i))}$\n",
    "  \n",
    "---\n",
    "  \n",
    "1. Using `numpy`, define MSE metric. As a function input, you're given true `y_true` and predicted `y_pred` arrays.\n",
    "2. Using `numpy`, define LogLoss metric. As input, you're given true class `y_true` and probability predicted `prob_pred`."
   ]
  },
  {
   "cell_type": "code",
   "execution_count": 13,
   "metadata": {},
   "outputs": [],
   "source": [
    "sample = pd.read_csv('../_datasets/sample_reg_true_pred.csv')\n",
    "y_regression_true, y_regression_pred = sample['true'].to_numpy(), sample['pred'].to_numpy()"
   ]
  },
  {
   "cell_type": "code",
   "execution_count": 14,
   "metadata": {},
   "outputs": [
    {
     "name": "stdout",
     "output_type": "stream",
     "text": [
      "Sklearn MSE: 0.15418. \n",
      "Your MSE: 0.15418. \n"
     ]
    }
   ],
   "source": [
    "from sklearn.metrics import mean_squared_error\n",
    "\n",
    "# Define your own MSE function\n",
    "def own_mse(y_true, y_pred):\n",
    "    # Raise differences to the power of 2\n",
    "    squares = np.power(y_true - y_pred, 2)\n",
    "    # Find mean over all observations\n",
    "    err = np.mean(squares)\n",
    "    return err\n",
    "\n",
    "\n",
    "print('Sklearn MSE: {:.5f}. '.format(mean_squared_error(y_regression_true, y_regression_pred)))\n",
    "print('Your MSE: {:.5f}. '.format(own_mse(y_regression_true, y_regression_pred)))"
   ]
  },
  {
   "cell_type": "code",
   "execution_count": 15,
   "metadata": {},
   "outputs": [],
   "source": [
    "sample_class = pd.read_csv('../_datasets/sample_class_true_pred.csv')\n",
    "y_classification_true, y_classification_pred = sample_class['true'].to_numpy(), sample_class['pred'].to_numpy()"
   ]
  },
  {
   "cell_type": "code",
   "execution_count": 16,
   "metadata": {},
   "outputs": [
    {
     "name": "stdout",
     "output_type": "stream",
     "text": [
      "Sklearn LogLoss: 1.10801\n",
      "Your LogLoss: 1.10801\n"
     ]
    }
   ],
   "source": [
    "from sklearn.metrics import log_loss\n",
    "\n",
    "# Define your own LogLoss function\n",
    "def own_logloss(y_true, prob_pred):\n",
    "    # Find loss for each observation\n",
    "    terms = y_true * np.log(prob_pred) + (1 - y_true) * np.log(1 - prob_pred)\n",
    "    # Find mean over all observations\n",
    "    err = np.mean(terms)\n",
    "    return -err\n",
    "\n",
    "\n",
    "print('Sklearn LogLoss: {:.5f}'.format(log_loss(y_classification_true, y_classification_pred)))\n",
    "print('Your LogLoss: {:.5f}'.format(own_logloss(y_classification_true, y_classification_pred)))"
   ]
  },
  {
   "cell_type": "markdown",
   "metadata": {},
   "source": [
    "Great! You see that your functions work the same way that built-in `sklearn.metrics` work. Knowing the problem type and evaluation metric, it's time to start Data Analysis. Let's move on to the next lesson on EDA!"
   ]
  },
  {
   "cell_type": "markdown",
   "metadata": {},
   "source": [
    "## Initial EDA\n",
    "  \n",
    "Now we know how to figure out what problem we're addressing, and how to use the appropriate metric. The next step is to look at the data and find interesting patterns in it using Exploratory Data Analysis (EDA for short).\n",
    "  \n",
    "**Goals of EDA**\n",
    "  \n",
    "EDA has multiple goals. To start with, we could get the size of the train and test data. It will give us an idea of how much resources we need for the competition and what models we could use. Then we could investigate the properties of the target variable. For example, there could be a high class imbalance in the classification problem, or a skewed distribution in the regression problem. Similarly, we could look at the properties of the features. Finding some peculiarities and dependencies between features and target variable is always useful. Also, EDA is a good place to start in order to generate some ideas and future hypotheses on feature engineering.\n",
    "  \n",
    "- Size of the data\n",
    "- Properties of the target variable\n",
    "- Properties of the features\n",
    "- Generate ideas for feature engineering\n",
    "  \n",
    "**Two sigma connect: rental listing inquiries**\n",
    "  \n",
    "In this video we'll work with another Kaggle competition. It's called \"Two sigma connect: rental listing inquiries\". In this Kaggle competition, we need to predict how popular an apartment rental listing is based on the listing content. The target variable, 'interest_level', is defined by the number of inquiries a listing obtains. Interest level is split into 3 groups: high, medium and low. So, we have a classification problem with 3 classes. And the metric is a multi-class logarithmic loss.\n",
    "  \n",
    "<center><img src='../_images/initial-eda-kaggle.png' alt='img' width='740'></center>\n",
    "  \n",
    "**EDA. Part I**\n",
    "  \n",
    "Generally, the first part of the EDA is to look at some basic statistics regarding our data. So, let's start with reading train and test data and finding their shape. We see that train dataset has about 50 thousand observations and 11 columns. The test has about 75 thousand observations and all the columns except for the target variable.\n",
    "  \n",
    "<center><img src='../_images/initial-eda-kaggle1.png' alt='img' width='740'></center>\n",
    "  \n",
    "Then let's look at the columns. We have the id of the observation, the number of bathrooms and bedrooms in the apartments, the exact coordinates of the apartments, the manager responsible for this listing, the renting price. And finally the target variable: 'interest_level'. Then, for example, we could obtain the distribution of 'interest_level' using `pandas`' `.value_counts()` method. The majority of the listings have low interest, while only about four thousand observations have high interest. It means that we have some class imbalance. However, it's not so crucial to apply any class balancing methods.\n",
    "  \n",
    "<center><img src='../_images/initial-eda-kaggle2.png' alt='img' width='740'></center>\n",
    "  \n",
    "Another useful approach to take a first glimpse at the data is `pandas`' `.describe()` method. It shows the basic statistics of all the numeric columns in the DataFrame. Let's apply it to our train data. We see the minimum and maximum values, together with quartiles and mean values, as well as the count and standard deviation.\n",
    "  \n",
    "<center><img src='../_images/initial-eda-kaggle3.png' alt='img' width='740'></center>\n",
    "  \n",
    "**EDA. Part II**\n",
    "  \n",
    "The next part of the EDA is to actually draw some plots and find interesting dependencies. We will use the matplotlib library. Let's import pyplot from matplotlib as plt and use ggplot style. As an example, let's compare the median price of the apartments across different interest levels. For this purpose, we use `pandas`' `.group_by()` method and get the median. Note that we specified '`as_index=`' parameter to False in order not to turn 'interest_level' into the index.\n",
    "  \n",
    "<center><img src='../_images/initial-eda-kaggle4.png' alt='img' width='740'></center>\n",
    "  \n",
    "We then create a figure and use the `.bar()` method to plot 'interest_level' versus median price. Also, set titles for the axis and the plot itself. Finally, calling the `matplotlib.pyplot.show()` method to see a plot.\n",
    "  \n",
    "<center><img src='../_images/initial-eda-kaggle5.png' alt='img' width='740'></center>\n",
    "  \n",
    "As we see, medium and high interest listings have lower prices. It means that people are searching for cheaper apartments. A potentially useful new feature would be the price per bedroom. If an apartment has a price per bedroom lower than market average, then the listing could obtain higher interest.\n",
    "  \n",
    "<center><img src='../_images/initial-eda-kaggle6.png' alt='img' width='740'></center>\n",
    "  \n",
    "**Let's practice!**\n",
    "  \n",
    "You just saw a few examples of the initial EDA. Let's practice more on the Taxi Fare Prediction data!"
   ]
  },
  {
   "cell_type": "markdown",
   "metadata": {},
   "source": [
    "### EDA statistics\n",
    "  \n",
    "As mentioned in the slides, you'll work with New York City taxi fare prediction data. You'll start with finding some basic statistics about the data. Then you'll move forward to plot some dependencies and generate hypotheses on them.\n",
    "  \n",
    "The `train` and `test` DataFrames are already available in your workspace.\n",
    "  \n",
    "---\n",
    "  \n",
    "1. Find the shapes of the `train` and `test` data.\n",
    "2. Look at the head of the `train` data.\n",
    "3. Describe the \"fare_amount\" column to get some statistics about the target variable.\n",
    "4. Find the distribution of the \"passenger_count\" in the `train` data (using the `.value_counts()` method)."
   ]
  },
  {
   "cell_type": "code",
   "execution_count": 17,
   "metadata": {},
   "outputs": [
    {
     "name": "stdout",
     "output_type": "stream",
     "text": [
      "Train shape: (20000, 8)\n",
      "Test shape: (9914, 7)\n"
     ]
    },
    {
     "data": {
      "text/html": [
       "<div>\n",
       "<style scoped>\n",
       "    .dataframe tbody tr th:only-of-type {\n",
       "        vertical-align: middle;\n",
       "    }\n",
       "\n",
       "    .dataframe tbody tr th {\n",
       "        vertical-align: top;\n",
       "    }\n",
       "\n",
       "    .dataframe thead th {\n",
       "        text-align: right;\n",
       "    }\n",
       "</style>\n",
       "<table border=\"1\" class=\"dataframe\">\n",
       "  <thead>\n",
       "    <tr style=\"text-align: right;\">\n",
       "      <th></th>\n",
       "      <th>id</th>\n",
       "      <th>fare_amount</th>\n",
       "      <th>pickup_datetime</th>\n",
       "      <th>pickup_longitude</th>\n",
       "      <th>pickup_latitude</th>\n",
       "      <th>dropoff_longitude</th>\n",
       "      <th>dropoff_latitude</th>\n",
       "      <th>passenger_count</th>\n",
       "    </tr>\n",
       "  </thead>\n",
       "  <tbody>\n",
       "    <tr>\n",
       "      <th>0</th>\n",
       "      <td>0</td>\n",
       "      <td>4.5</td>\n",
       "      <td>2009-06-15 17:26:21 UTC</td>\n",
       "      <td>-73.844311</td>\n",
       "      <td>40.721319</td>\n",
       "      <td>-73.841610</td>\n",
       "      <td>40.712278</td>\n",
       "      <td>1</td>\n",
       "    </tr>\n",
       "    <tr>\n",
       "      <th>1</th>\n",
       "      <td>1</td>\n",
       "      <td>16.9</td>\n",
       "      <td>2010-01-05 16:52:16 UTC</td>\n",
       "      <td>-74.016048</td>\n",
       "      <td>40.711303</td>\n",
       "      <td>-73.979268</td>\n",
       "      <td>40.782004</td>\n",
       "      <td>1</td>\n",
       "    </tr>\n",
       "    <tr>\n",
       "      <th>2</th>\n",
       "      <td>2</td>\n",
       "      <td>5.7</td>\n",
       "      <td>2011-08-18 00:35:00 UTC</td>\n",
       "      <td>-73.982738</td>\n",
       "      <td>40.761270</td>\n",
       "      <td>-73.991242</td>\n",
       "      <td>40.750562</td>\n",
       "      <td>2</td>\n",
       "    </tr>\n",
       "    <tr>\n",
       "      <th>3</th>\n",
       "      <td>3</td>\n",
       "      <td>7.7</td>\n",
       "      <td>2012-04-21 04:30:42 UTC</td>\n",
       "      <td>-73.987130</td>\n",
       "      <td>40.733143</td>\n",
       "      <td>-73.991567</td>\n",
       "      <td>40.758092</td>\n",
       "      <td>1</td>\n",
       "    </tr>\n",
       "    <tr>\n",
       "      <th>4</th>\n",
       "      <td>4</td>\n",
       "      <td>5.3</td>\n",
       "      <td>2010-03-09 07:51:00 UTC</td>\n",
       "      <td>-73.968095</td>\n",
       "      <td>40.768008</td>\n",
       "      <td>-73.956655</td>\n",
       "      <td>40.783762</td>\n",
       "      <td>1</td>\n",
       "    </tr>\n",
       "  </tbody>\n",
       "</table>\n",
       "</div>"
      ],
      "text/plain": [
       "   id  fare_amount          pickup_datetime  pickup_longitude  \\\n",
       "0   0          4.5  2009-06-15 17:26:21 UTC        -73.844311   \n",
       "1   1         16.9  2010-01-05 16:52:16 UTC        -74.016048   \n",
       "2   2          5.7  2011-08-18 00:35:00 UTC        -73.982738   \n",
       "3   3          7.7  2012-04-21 04:30:42 UTC        -73.987130   \n",
       "4   4          5.3  2010-03-09 07:51:00 UTC        -73.968095   \n",
       "\n",
       "   pickup_latitude  dropoff_longitude  dropoff_latitude  passenger_count  \n",
       "0        40.721319         -73.841610         40.712278                1  \n",
       "1        40.711303         -73.979268         40.782004                1  \n",
       "2        40.761270         -73.991242         40.750562                2  \n",
       "3        40.733143         -73.991567         40.758092                1  \n",
       "4        40.768008         -73.956655         40.783762                1  "
      ]
     },
     "execution_count": 17,
     "metadata": {},
     "output_type": "execute_result"
    }
   ],
   "source": [
    "train = pd.read_csv('../_datasets/taxi_train_chapter_4.csv')\n",
    "test = pd.read_csv('../_datasets/taxi_test_chapter_4.csv')\n",
    "\n",
    "# Shapes of train and test data\n",
    "print('Train shape:', train.shape)\n",
    "print('Test shape:', test.shape)\n",
    "\n",
    "# train head()\n",
    "train.head()"
   ]
  },
  {
   "cell_type": "code",
   "execution_count": 18,
   "metadata": {},
   "outputs": [
    {
     "data": {
      "text/plain": [
       "count    20000.000000\n",
       "mean        11.303321\n",
       "std          9.541637\n",
       "min         -3.000000\n",
       "25%          6.000000\n",
       "50%          8.500000\n",
       "75%         12.500000\n",
       "max        180.000000\n",
       "Name: fare_amount, dtype: float64"
      ]
     },
     "execution_count": 18,
     "metadata": {},
     "output_type": "execute_result"
    }
   ],
   "source": [
    "# Describe the target variable\n",
    "train.fare_amount.describe()"
   ]
  },
  {
   "cell_type": "code",
   "execution_count": 19,
   "metadata": {},
   "outputs": [
    {
     "data": {
      "text/plain": [
       "passenger_count\n",
       "1    13999\n",
       "2     2912\n",
       "5     1327\n",
       "3      860\n",
       "4      420\n",
       "6      407\n",
       "0       75\n",
       "Name: count, dtype: int64"
      ]
     },
     "execution_count": 19,
     "metadata": {},
     "output_type": "execute_result"
    }
   ],
   "source": [
    "# Train distribution of passengers within rides\n",
    "train.passenger_count.value_counts()"
   ]
  },
  {
   "cell_type": "markdown",
   "metadata": {},
   "source": [
    "All right! You just obtained a couple of descriptive statistics about the data. You can look at them to understand the data structure. However, they are not informative enough to get ideas for the future solution. Let's get down to more practical EDA!"
   ]
  },
  {
   "cell_type": "markdown",
   "metadata": {},
   "source": [
    "### EDA plots I\n",
    "  \n",
    "After generating a couple of basic statistics, it's time to come up with and validate some ideas about the data dependencies. Again, the `train` DataFrame from the taxi competition is already available in your workspace.\n",
    "  \n",
    "To begin with, let's make a scatterplot plotting the relationship between the fare amount and the distance of the ride. Intuitively, the longer the ride, the higher its price.\n",
    "  \n",
    "To get the distance in kilometers between two geo-coordinates, you will use Haversine distance. Its calculation is available with the `haversine_distance()` function defined for you. The function expects `train` DataFrame as input.\n",
    "  \n",
    "---\n",
    "  \n",
    "1. Create a new variable \"distance_km\" as Haversine distance between pickup and dropoff points.\n",
    "2. Plot a scatterplot with \"fare_amount\" on the x axis and \"distance_km\" on the y axis. To draw a scatterplot use the `matplotlib` `.scatter()` method.\n",
    "3. Set a limit on a ride distance to be between 0 and 50 kilometers to avoid plotting outliers."
   ]
  },
  {
   "cell_type": "code",
   "execution_count": 20,
   "metadata": {},
   "outputs": [],
   "source": [
    "def haversine_distance(train):\n",
    "    \n",
    "    data = [train]\n",
    "    lat1, long1, lat2, long2 = 'pickup_latitude', 'pickup_longitude', 'dropoff_latitude', 'dropoff_longitude'\n",
    "    \n",
    "    for i in data:\n",
    "        R = 6371  #radius of earth in kilometers\n",
    "        #R = 3959 #radius of earth in miles\n",
    "        phi1 = np.radians(i[lat1])\n",
    "        phi2 = np.radians(i[lat2])\n",
    "    \n",
    "        delta_phi = np.radians(i[lat2]-i[lat1])\n",
    "        delta_lambda = np.radians(i[long2]-i[long1])\n",
    "    \n",
    "        #a = sin²((φB - φA)/2) + cos φA . cos φB . sin²((λB - λA)/2)\n",
    "        a = np.sin(delta_phi / 2.0) ** 2 + np.cos(phi1) * np.cos(phi2) * np.sin(delta_lambda / 2.0) ** 2\n",
    "    \n",
    "        #c = 2 * atan2( √a, √(1−a) )\n",
    "        c = 2 * np.arctan2(np.sqrt(a), np.sqrt(1-a))\n",
    "    \n",
    "        #d = R*c\n",
    "        d = (R * c) #in kilometers\n",
    "        \n",
    "    return d"
   ]
  },
  {
   "cell_type": "code",
   "execution_count": 21,
   "metadata": {},
   "outputs": [
    {
     "data": {
      "text/plain": [
       "(0.0, 50.0)"
      ]
     },
     "execution_count": 21,
     "metadata": {},
     "output_type": "execute_result"
    },
    {
     "data": {
      "image/png": "[encoded data removed]",
      "text/plain": [
       "<Figure size 800x800 with 1 Axes>"
      ]
     },
     "metadata": {},
     "output_type": "display_data"
    }
   ],
   "source": [
    "# Calculate the ride distance\n",
    "train['distance_km'] = haversine_distance(train)\n",
    "\n",
    "# Draw a scatterplot\n",
    "plt.scatter(x=train['fare_amount'], y=train['distance_km'], alpha=0.5)\n",
    "plt.xlabel('Fare amount')\n",
    "plt.ylabel('Distance, km')\n",
    "plt.title('Fare amount based on the distance')\n",
    "\n",
    "# Limit on the distance\n",
    "plt.ylim(0, 50)"
   ]
  },
  {
   "cell_type": "markdown",
   "metadata": {},
   "source": [
    "Nice plot! It's obvious now that there is a clear dependency between ride distance and fare amount. So, ride distance is, probably, a good feature. Let's find some others!"
   ]
  },
  {
   "cell_type": "markdown",
   "metadata": {},
   "source": [
    "### EDA plots II\n",
    "  \n",
    "Another idea that comes to mind is that the price of a ride could change during the day.\n",
    "  \n",
    "Your goal is to plot the median fare amount for each hour of the day as a simple line plot. The hour feature is calculated for you. Don't worry if you do not know how to work with the date features. We will explore them in the chapter on Feature Engineering.\n",
    "  \n",
    "---\n",
    "  \n",
    "1. Group `train` DataFrame by `\"hour\"` and calculate the median for the `\"fare_amount\"` column.\n",
    "2. Using `hour_price` DataFrame obtained, plot a line with `\"hour\"` on the x axis and `\"fare_amount\"` on the y axis."
   ]
  },
  {
   "cell_type": "code",
   "execution_count": 24,
   "metadata": {},
   "outputs": [
    {
     "data": {
      "image/png": "[encoded data removed]",
      "text/plain": [
       "<Figure size 800x800 with 1 Axes>"
      ]
     },
     "metadata": {},
     "output_type": "display_data"
    }
   ],
   "source": [
    "# Create hour feature\n",
    "train['pickup_datetime'] = pd.to_datetime(train.pickup_datetime)\n",
    "train['hour'] = train.pickup_datetime.dt.hour\n",
    "\n",
    "# Find median fare_amount for each hour\n",
    "hour_price = train.groupby('hour', as_index=False)['fare_amount'].median()\n",
    "\n",
    "# Plot the line plot\n",
    "plt.plot(hour_price['hour'], hour_price['fare_amount'], marker='o')\n",
    "plt.xlabel('Hour of the day')\n",
    "plt.ylabel('Median fare amount')\n",
    "plt.title('Fare amount based on day time')\n",
    "plt.xticks(range(24))\n",
    "plt.show()"
   ]
  },
  {
   "cell_type": "markdown",
   "metadata": {},
   "source": [
    "Great! We see that prices are a bit higher during the night. It is a good indicator that we should include the `\"hour\"` feature in the final model, or at least add a binary feature `\"is_night\"`. Move on to the next lesson to learn how to check whether new features are useful for the model or not!"
   ]
  },
  {
   "cell_type": "markdown",
   "metadata": {},
   "source": [
    "## Local validation\n",
    "  \n",
    "After some preliminary steps, we come to one of the crucial parts of the solution process: local validation.\n",
    "  \n",
    "**Motivation**\n",
    "  \n",
    "Before we start, let's discuss the motivation for local validation. Recall the plot with possible overfitting to Public test data. The problem we observe here is that we can't detect the moment when our model starts overfitting by looking only at the Public Leaderboard. That's where local validation comes into play. Using only train data, we want to build some kind of an internal, or local, approximation of the model's performance on a Private test data.\n",
    "  \n",
    "<center><img src='../_images/local-validation-kaggle.png' alt='img' width='740'></center>\n",
    "  \n",
    "**Holdout set**\n",
    "  \n",
    "The question is: how do we build such an approximation of the model's performance? The simplest way is to use a holdout set. We split all train data (in other words, all the observations we know the target variable for) into train and holdout sets.\n",
    "  \n",
    "<center><img src='../_images/local-validation-kaggle1.png' alt='img' width='740'></center>\n",
    "  \n",
    "We then build a model using only the train set and make predictions on the holdout set. So, the holdout is similar to the usual test data, but the target variable is known.\n",
    "  \n",
    "<center><img src='../_images/local-validation-kaggle2.png' alt='img' width='740'></center>\n",
    "  \n",
    "It allows to compare predictions with the actual values and gives us a fair estimate of the model's performance. However, such an approach is similar to just looking at the results on the Public Leaderboard. We always use the same data for model evaluation and could potentially overfit to it. A better idea is to use cross-validation.\n",
    "  \n",
    "<center><img src='../_images/local-validation-kaggle3.png' alt='img' width='740'></center>\n",
    "  \n",
    "**K-fold cross-validation**\n",
    "  \n",
    "The process of K-fold cross-validation is presented on the slide. We split the train data into $K$ non-overlapping parts called 'folds' (in this case $K$ is equal to 4).\n",
    "  \n",
    "<center><img src='../_images/local-validation-kaggle4.png' alt='img' width='740'></center>\n",
    "  \n",
    "Then train a model $K$ times on all the data except for a single fold. Each time, we also measure the quality on this single fold the model has never seen before. K-fold cross-validation gives our model the opportunity to train on multiple train-test splits instead of using a single holdout set. This gives us a better indication of how well our model will perform on unseen data.\n",
    "  \n",
    "<center><img src='../_images/local-validation-kaggle5.png' alt='img' width='740'></center>\n",
    "  \n",
    "To apply K-fold cross-validation with scikit-learn, import it from the `model_selection` module. Create a KFold object with the following parameters: `n_splits=` is the number of folds, `shuffle=` is whether the data is sorted before splitting. Generally, it's better to always set this parameter to True. And `random_state=` sets a seed to reproduce the same folds in any future run. Now, we need to train K models for each cross-validation split. To obtain all the splits we call the `.split()` method of the `KFold` object with a train data as an argument. It returns a list of training and testing observations for each split. The observations are given as numeric indices in the train data. These indices could be used inside the loop to select training and testing folds for the corresponding cross-validation split. For `pandas` DataFrame it could be done using the `.iloc` operator, for example.\n",
    "  \n",
    "<center><img src='../_images/local-validation-kaggle6.png' alt='img' width='740'></center>\n",
    "  \n",
    "**Stratified K-fold**\n",
    "  \n",
    "Another approach for cross-validation is stratified K-fold. It is the same as usual K-fold, but creates stratified folds by a target variable. These folds are made by preserving the percentage of samples for each class of this variable. As we see on the image, each fold has the same classes distribution as in the initial data. It is useful when we have a classification problem with high class imbalance in the target variable or our data size is very small.\n",
    "  \n",
    "<center><img src='../_images/local-validation-kaggle7.png' alt='img' width='740'></center>\n",
    "  \n",
    "Stratified K-fold is also located in sklearn's `model_selection` module. It has the same parameters as the usual `KFold`: `n_splits=`, `shuffle=` and `random_state=`. The only difference is that on top of the train data, we should also pass the target variable into the `.split()` call in order to make a stratification.\n",
    "  \n",
    "<center><img src='../_images/local-validation-kaggle8.png' alt='img' width='740'></center>\n",
    "  \n",
    "**Let's practice!**\n",
    "  \n",
    "As you can see, there are various validation strategies available. Let's try them out!"
   ]
  },
  {
   "cell_type": "markdown",
   "metadata": {},
   "source": [
    "### K-fold cross-validation\n",
    "  \n",
    "You will start by getting hands-on experience in the most commonly used K-fold cross-validation.\n",
    "  \n",
    "The data you'll be working with is from the \"Two sigma connect: rental listing inquiries\" Kaggle competition. The competition problem is a multi-class classification of the rental listings into 3 classes: low interest, medium interest and high interest. For faster performance, you will work with a subsample consisting of 1,000 observations.\n",
    "  \n",
    "You need to implement a K-fold validation strategy and look at the sizes of each fold obtained. `train` DataFrame is already available in your workspace.\n",
    "  \n",
    "---\n",
    "  \n",
    "1. Create a `KFold` object with 3 folds.\n",
    "2. Loop over each split using the kf object.\n",
    "3. For each split select training and testing folds using `train_index` and `test_index`."
   ]
  },
  {
   "cell_type": "code",
   "execution_count": 25,
   "metadata": {},
   "outputs": [
    {
     "name": "stdout",
     "output_type": "stream",
     "text": [
      "(1000, 9)\n"
     ]
    },
    {
     "data": {
      "text/html": [
       "<div>\n",
       "<style scoped>\n",
       "    .dataframe tbody tr th:only-of-type {\n",
       "        vertical-align: middle;\n",
       "    }\n",
       "\n",
       "    .dataframe tbody tr th {\n",
       "        vertical-align: top;\n",
       "    }\n",
       "\n",
       "    .dataframe thead th {\n",
       "        text-align: right;\n",
       "    }\n",
       "</style>\n",
       "<table border=\"1\" class=\"dataframe\">\n",
       "  <thead>\n",
       "    <tr style=\"text-align: right;\">\n",
       "      <th></th>\n",
       "      <th>id</th>\n",
       "      <th>bathrooms</th>\n",
       "      <th>bedrooms</th>\n",
       "      <th>building_id</th>\n",
       "      <th>latitude</th>\n",
       "      <th>longitude</th>\n",
       "      <th>manager_id</th>\n",
       "      <th>price</th>\n",
       "      <th>interest_level</th>\n",
       "    </tr>\n",
       "  </thead>\n",
       "  <tbody>\n",
       "    <tr>\n",
       "      <th>0</th>\n",
       "      <td>10</td>\n",
       "      <td>1.5</td>\n",
       "      <td>3</td>\n",
       "      <td>53a5b119ba8f7b61d4e010512e0dfc85</td>\n",
       "      <td>40.7145</td>\n",
       "      <td>-73.9425</td>\n",
       "      <td>5ba989232d0489da1b5f2c45f6688adc</td>\n",
       "      <td>3000</td>\n",
       "      <td>medium</td>\n",
       "    </tr>\n",
       "    <tr>\n",
       "      <th>1</th>\n",
       "      <td>10000</td>\n",
       "      <td>1.0</td>\n",
       "      <td>2</td>\n",
       "      <td>c5c8a357cba207596b04d1afd1e4f130</td>\n",
       "      <td>40.7947</td>\n",
       "      <td>-73.9667</td>\n",
       "      <td>7533621a882f71e25173b27e3139d83d</td>\n",
       "      <td>5465</td>\n",
       "      <td>low</td>\n",
       "    </tr>\n",
       "    <tr>\n",
       "      <th>2</th>\n",
       "      <td>100004</td>\n",
       "      <td>1.0</td>\n",
       "      <td>1</td>\n",
       "      <td>c3ba40552e2120b0acfc3cb5730bb2aa</td>\n",
       "      <td>40.7388</td>\n",
       "      <td>-74.0018</td>\n",
       "      <td>d9039c43983f6e564b1482b273bd7b01</td>\n",
       "      <td>2850</td>\n",
       "      <td>high</td>\n",
       "    </tr>\n",
       "    <tr>\n",
       "      <th>3</th>\n",
       "      <td>100007</td>\n",
       "      <td>1.0</td>\n",
       "      <td>1</td>\n",
       "      <td>28d9ad350afeaab8027513a3e52ac8d5</td>\n",
       "      <td>40.7539</td>\n",
       "      <td>-73.9677</td>\n",
       "      <td>1067e078446a7897d2da493d2f741316</td>\n",
       "      <td>3275</td>\n",
       "      <td>low</td>\n",
       "    </tr>\n",
       "    <tr>\n",
       "      <th>4</th>\n",
       "      <td>100013</td>\n",
       "      <td>1.0</td>\n",
       "      <td>4</td>\n",
       "      <td>0</td>\n",
       "      <td>40.8241</td>\n",
       "      <td>-73.9493</td>\n",
       "      <td>98e13ad4b495b9613cef886d79a6291f</td>\n",
       "      <td>3350</td>\n",
       "      <td>low</td>\n",
       "    </tr>\n",
       "  </tbody>\n",
       "</table>\n",
       "</div>"
      ],
      "text/plain": [
       "       id  bathrooms  bedrooms                       building_id  latitude  \\\n",
       "0      10        1.5         3  53a5b119ba8f7b61d4e010512e0dfc85   40.7145   \n",
       "1   10000        1.0         2  c5c8a357cba207596b04d1afd1e4f130   40.7947   \n",
       "2  100004        1.0         1  c3ba40552e2120b0acfc3cb5730bb2aa   40.7388   \n",
       "3  100007        1.0         1  28d9ad350afeaab8027513a3e52ac8d5   40.7539   \n",
       "4  100013        1.0         4                                 0   40.8241   \n",
       "\n",
       "   longitude                        manager_id  price interest_level  \n",
       "0   -73.9425  5ba989232d0489da1b5f2c45f6688adc   3000         medium  \n",
       "1   -73.9667  7533621a882f71e25173b27e3139d83d   5465            low  \n",
       "2   -74.0018  d9039c43983f6e564b1482b273bd7b01   2850           high  \n",
       "3   -73.9677  1067e078446a7897d2da493d2f741316   3275            low  \n",
       "4   -73.9493  98e13ad4b495b9613cef886d79a6291f   3350            low  "
      ]
     },
     "execution_count": 25,
     "metadata": {},
     "output_type": "execute_result"
    }
   ],
   "source": [
    "train = pd.read_csv('../_datasets/twosigma_rental_train.csv')\n",
    "print(train.shape)\n",
    "train.head()"
   ]
  },
  {
   "cell_type": "code",
   "execution_count": 26,
   "metadata": {},
   "outputs": [
    {
     "name": "stdout",
     "output_type": "stream",
     "text": [
      "Fold: 0\n",
      "CV train shape: (666, 9)\n",
      "Medium interest listings in CV train: 175\n",
      "\n",
      "Fold: 1\n",
      "CV train shape: (667, 9)\n",
      "Medium interest listings in CV train: 165\n",
      "\n",
      "Fold: 2\n",
      "CV train shape: (667, 9)\n",
      "Medium interest listings in CV train: 162\n",
      "\n"
     ]
    }
   ],
   "source": [
    "from sklearn.model_selection import KFold\n",
    "\n",
    "# Create a KFold object\n",
    "kf = KFold(n_splits=3, shuffle=True, random_state=123)\n",
    "\n",
    "# Loop through each split\n",
    "fold = 0  # Counter\n",
    "\n",
    "for train_index, test_index in kf.split(train):\n",
    "    # Obtain training and test folds\n",
    "    cv_train, cv_test = train.iloc[train_index], train.iloc[test_index]\n",
    "    print(\"Fold: {}\".format(fold))\n",
    "    print(\"CV train shape: {}\".format(cv_train.shape))\n",
    "    print(\"Medium interest listings in CV train: {}\\n\".format(sum(cv_train.interest_level == 'medium')))\n",
    "    fold += 1"
   ]
  },
  {
   "cell_type": "markdown",
   "metadata": {},
   "source": [
    "So, we see that the number of observations in each fold is almost uniform. It means that we've just splitted the train data into 3 equal folds. However, if we look at the number of medium-interest listings, it's varying from 162 to 175 from one fold to another. To make them uniform among the folds, let's use Stratified K-fold!"
   ]
  },
  {
   "cell_type": "markdown",
   "metadata": {},
   "source": [
    "### Stratified K-fold\n",
    "  \n",
    "As you've just noticed, you have a pretty different target variable distribution among the folds due to the random splits. It's not crucial for this particular competition, but could be an issue for the classification competitions with the highly imbalanced target variable.\n",
    "  \n",
    "To overcome this, let's implement the stratified K-fold strategy with the stratification on the target variable. `train` DataFrame is already available in your workspace.\n",
    "  \n",
    "---\n",
    "  \n",
    "1. Create a `StratifiedKFold` object with 3 folds and shuffling.\n",
    "2. Loop over each split using `str_kf` object. Stratification is based on the `\"interest_level\"` column.\n",
    "3. For each split select training and testing folds using `train_index` and `test_index`."
   ]
  },
  {
   "cell_type": "code",
   "execution_count": 27,
   "metadata": {},
   "outputs": [
    {
     "name": "stdout",
     "output_type": "stream",
     "text": [
      "Fold: 0\n",
      "CV train shape: (666, 9)\n",
      "Medium interest listings in CV train: 167\n",
      "\n",
      "Fold: 1\n",
      "CV train shape: (667, 9)\n",
      "Medium interest listings in CV train: 167\n",
      "\n",
      "Fold: 2\n",
      "CV train shape: (667, 9)\n",
      "Medium interest listings in CV train: 168\n",
      "\n"
     ]
    }
   ],
   "source": [
    "from sklearn.model_selection import StratifiedKFold\n",
    "\n",
    "# Create a StratifiedKFold object\n",
    "str_kf = StratifiedKFold(n_splits=3, shuffle=True, random_state=123)\n",
    "\n",
    "# Loop through each split\n",
    "fold = 0  # Counter\n",
    "for train_index, test_index in str_kf.split(train, train['interest_level']):\n",
    "    # Obtain training and test folds\n",
    "    cv_train, cv_test = train.iloc[train_index], train.iloc[test_index]\n",
    "    print('Fold: {}'.format(fold))\n",
    "    print('CV train shape: {}'.format(cv_train.shape))\n",
    "    print('Medium interest listings in CV train: {}\\n'.format(sum(cv_train.interest_level == 'medium')))\n",
    "    fold += 1"
   ]
  },
  {
   "cell_type": "markdown",
   "metadata": {},
   "source": [
    "Great! Now you see that both size and target distribution are the same among the folds. The general rule is to prefer **Stratified K-Fold over usual K-Fold in any classification problem.** Move to the next lesson to learn about other cross-validation strategies!"
   ]
  },
  {
   "cell_type": "markdown",
   "metadata": {},
   "source": [
    "## Validation usage\n",
    "  \n",
    "In the previous lesson, we've learned about basic cross-validation strategies. Now, we'll consider one more and also explore the general validation process.\n",
    "  \n",
    "**Data leakage**\n",
    "  \n",
    "To start with, let's introduce a new term called 'data leakage'. Leakage causes a model to seem accurate until we start making predictions in a real-world environment. We then realize that the model is of low quality and becomes absolutely useless. There are different types of data leakage. The first one is a leak in the features. It means that we're using data that will not be available in the production setting. For example, predicting sales in US dollars, while having exactly the same sales in UK pounds as a feature. Another one is a leak in the validation strategy. It occurs when the validation strategy does not replicate the real-world situation. We will see an example in the next slide.\n",
    "  \n",
    "<center><img src='../_images/validation-usage-kaggle.png' alt='img' width='740'></center>\n",
    "  \n",
    "**Time data**\n",
    "  \n",
    "Suppose we're solving the problem with time series data. As a validation strategy, we selected the usual K-fold. The folds distribution for $K$ equals four is presented on the slide. What leakage can we observe here? What's wrong with a simple K-fold strategy? The problem here is that in the second split we'll build a model using data from the future! Obviously, in the real-world setting, we will not have access to the future data. Therefore, this is an example of leakage in the validation strategy.\n",
    "  \n",
    "<center><img src='../_images/validation-usage-kaggle1.png' alt='img' width='740'></center>\n",
    "  \n",
    "**Time K-fold cross-validation**\n",
    "  \n",
    "Thus, we need to be more careful with the time data. One of the possible approaches is time K-fold cross-validation. The underlying idea is to provide multiple splits in such a manner that we train only on past data while always predicting the future.\n",
    "  \n",
    "<center><img src='../_images/validation-usage-kaggle2.png' alt='img' width='740'></center>\n",
    "  \n",
    "**Time K-fold cross-validation**\n",
    "  \n",
    "Time K-fold cross-validation is also available in scikit-learn `model_selection`. Let's create a `TimeSeriesSplit` object with 5 splits. Before applying it to the data, we need to sort the train DataFrame by date. And then, as usual, iterate through each cross-validation split.\n",
    "  \n",
    "<center><img src='../_images/validation-usage-kaggle3.png' alt='img' width='740'></center>\n",
    "  \n",
    "**Validation pipeline**\n",
    "  \n",
    "OK, we've considered various cross-validation strategies. Now, let's define the general pipeline of the validation process for any cross-validation scheme. Firstly, create an empty list where we will store the model's results. Split train data into folds. Here, CV_STRATEGY object should be substituted with the strategy we're using. Then, for each cross-validation split, we perform the following steps. Train a model using all except for a single fold. Make predictions on this unseen single fold. Calculate the competition metric and append it to the list of folds metrics. As a result, we have a list of $K$ numbers representing model quality for each fold.\n",
    "  \n",
    "<center><img src='../_images/validation-usage-kaggle4.png' alt='img' width='740'></center>\n",
    "  \n",
    "**Model comparison**\n",
    "  \n",
    "Now we could train two different models and for each model get a list of $K$ numbers. For example, we have Models A and B with mean squared errors in four folds. Our goal is to select the model with better quality. However, it's hard to make conclusions comparing $K$ numbers simultaneously. So, the next step is to transform $K$ fold scores into a single overall validation score.\n",
    "  \n",
    "<center><img src='../_images/validation-usage-kaggle5.png' alt='img' width='740'></center>\n",
    "  \n",
    "**Overall validation score**\n",
    "  \n",
    "The simplest way to obtain a single number is to find the mean over all fold scores. However, the mean is not usually a good choice, because it does not take into account score deviation from one fold to another. We could get a very good score for a single fold, while the performance on the rest $K$-1 folds is poor. Let's define a more reliable overall validation score. It uses the worst-case scenario considering validation score one standard deviation away from the mean. We add standard deviation if the competition metric is being minimized and subtract standard deviation if the metric is being maximized.\n",
    "  \n",
    "<center><img src='../_images/validation-usage-kaggle6.png' alt='img' width='740'></center>\n",
    "  \n",
    "**Model comparison**\n",
    "  \n",
    "In our example, taking the mean over all folds suggests that Model B has a lower error. However, if we calculate the overall score taking into account the scores deviation. It occurs that, actually, model A is a bit better.\n",
    "  \n",
    "<center><img src='../_images/validation-usage-kaggle7.png' alt='img' width='740'></center>\n",
    "  \n",
    "**Let's practice!**\n",
    "  \n",
    "All right, enough words! Let's try all these ideas on practice!"
   ]
  },
  {
   "cell_type": "markdown",
   "metadata": {},
   "source": [
    "### Time K-fold\n",
    "  \n",
    "Remember the \"Store Item Demand Forecasting Challenge\" where you are given store-item sales data, and have to predict future sales?\n",
    "  \n",
    "It's a competition with time series data. So, time K-fold cross-validation should be applied. Your goal is to create this cross-validation strategy and make sure that it works as expected.\n",
    "  \n",
    "Note that the `train` DataFrame is already available in your workspace, and that `TimeSeriesSplit` has been imported from `sklearn.model_selection`.\n",
    "  \n",
    "---\n",
    "  \n",
    "1. Create a `TimeSeriesSplit` object with 3 splits.\n",
    "2. Sort the train data by \"date\" column to apply time K-fold.\n",
    "3. Loop over each time split using `time_kfold` object.\n",
    "4. For each split select training and testing folds using `train_index` and `test_index`."
   ]
  },
  {
   "cell_type": "code",
   "execution_count": 28,
   "metadata": {},
   "outputs": [
    {
     "name": "stdout",
     "output_type": "stream",
     "text": [
      "(15500, 5)\n"
     ]
    },
    {
     "data": {
      "text/html": [
       "<div>\n",
       "<style scoped>\n",
       "    .dataframe tbody tr th:only-of-type {\n",
       "        vertical-align: middle;\n",
       "    }\n",
       "\n",
       "    .dataframe tbody tr th {\n",
       "        vertical-align: top;\n",
       "    }\n",
       "\n",
       "    .dataframe thead th {\n",
       "        text-align: right;\n",
       "    }\n",
       "</style>\n",
       "<table border=\"1\" class=\"dataframe\">\n",
       "  <thead>\n",
       "    <tr style=\"text-align: right;\">\n",
       "      <th></th>\n",
       "      <th>id</th>\n",
       "      <th>date</th>\n",
       "      <th>store</th>\n",
       "      <th>item</th>\n",
       "      <th>sales</th>\n",
       "    </tr>\n",
       "  </thead>\n",
       "  <tbody>\n",
       "    <tr>\n",
       "      <th>0</th>\n",
       "      <td>100000</td>\n",
       "      <td>2017-12-01</td>\n",
       "      <td>1</td>\n",
       "      <td>1</td>\n",
       "      <td>19</td>\n",
       "    </tr>\n",
       "    <tr>\n",
       "      <th>1</th>\n",
       "      <td>100001</td>\n",
       "      <td>2017-12-02</td>\n",
       "      <td>1</td>\n",
       "      <td>1</td>\n",
       "      <td>16</td>\n",
       "    </tr>\n",
       "    <tr>\n",
       "      <th>2</th>\n",
       "      <td>100002</td>\n",
       "      <td>2017-12-03</td>\n",
       "      <td>1</td>\n",
       "      <td>1</td>\n",
       "      <td>31</td>\n",
       "    </tr>\n",
       "    <tr>\n",
       "      <th>3</th>\n",
       "      <td>100003</td>\n",
       "      <td>2017-12-04</td>\n",
       "      <td>1</td>\n",
       "      <td>1</td>\n",
       "      <td>7</td>\n",
       "    </tr>\n",
       "    <tr>\n",
       "      <th>4</th>\n",
       "      <td>100004</td>\n",
       "      <td>2017-12-05</td>\n",
       "      <td>1</td>\n",
       "      <td>1</td>\n",
       "      <td>20</td>\n",
       "    </tr>\n",
       "  </tbody>\n",
       "</table>\n",
       "</div>"
      ],
      "text/plain": [
       "       id        date  store  item  sales\n",
       "0  100000  2017-12-01      1     1     19\n",
       "1  100001  2017-12-02      1     1     16\n",
       "2  100002  2017-12-03      1     1     31\n",
       "3  100003  2017-12-04      1     1      7\n",
       "4  100004  2017-12-05      1     1     20"
      ]
     },
     "execution_count": 28,
     "metadata": {},
     "output_type": "execute_result"
    }
   ],
   "source": [
    "train = pd.read_csv('../_datasets/demand_forecasting_train_1_month.csv')\n",
    "print(train.shape)\n",
    "train.head()"
   ]
  },
  {
   "cell_type": "code",
   "execution_count": 29,
   "metadata": {},
   "outputs": [
    {
     "name": "stdout",
     "output_type": "stream",
     "text": [
      "Fold : 0\n",
      "Train date range: from 2017-12-01 to 2017-12-08\n",
      "Test date range: from 2017-12-08 to 2017-12-16\n",
      "\n",
      "Fold : 1\n",
      "Train date range: from 2017-12-01 to 2017-12-16\n",
      "Test date range: from 2017-12-16 to 2017-12-24\n",
      "\n",
      "Fold : 2\n",
      "Train date range: from 2017-12-01 to 2017-12-24\n",
      "Test date range: from 2017-12-24 to 2017-12-31\n",
      "\n"
     ]
    }
   ],
   "source": [
    "from sklearn.model_selection import TimeSeriesSplit\n",
    "\n",
    "# Create TimeSeriesSplit object\n",
    "time_kfold = TimeSeriesSplit(n_splits=3)\n",
    "\n",
    "# sort train data by date\n",
    "train = train.sort_values('date')\n",
    "\n",
    "# Iterate through each split\n",
    "fold = 0  # Counter\n",
    "for train_index, test_index in time_kfold.split(train):\n",
    "    cv_train, cv_test = train.iloc[train_index], train.iloc[test_index]\n",
    "    \n",
    "    print('Fold :', fold)\n",
    "    print('Train date range: from {} to {}'.format(cv_train.date.min(), cv_train.date.max()))\n",
    "    print('Test date range: from {} to {}\\n'.format(cv_test.date.min(), cv_test.date.max()))\n",
    "    fold += 1"
   ]
  },
  {
   "cell_type": "markdown",
   "metadata": {},
   "source": [
    "Great! You've applied time K-fold cross-validation strategy for the demand forecasting. Look at the output. It works as expected, training only on the past data and predicting the future. Progress to the next exercise to evaluate different models!"
   ]
  },
  {
   "cell_type": "markdown",
   "metadata": {},
   "source": [
    "### Overall validation score\n",
    "  \n",
    "Now it's time to get the actual model performance using cross-validation! How does our store item demand prediction model perform?\n",
    "  \n",
    "Your task is to take the Mean Squared Error (MSE) for each fold separately, and then combine these results into a single number.\n",
    "  \n",
    "For simplicity, you're given `get_fold_mse()` function that for each cross-validation split fits a Random Forest model and returns a list of MSE scores by fold. `get_fold_mse()` accepts two arguments: `train` and `TimeSeriesSplit` object.\n",
    "  \n",
    "---\n",
    "  \n",
    "1. Create time 3-fold cross-validation.\n",
    "2. Print the `numpy` mean of MSE scores by folds.\n",
    "3. Print the list of MSEs by fold.\n",
    "4. To calculate the overall score, find the sum of MSE mean and standard deviation."
   ]
  },
  {
   "cell_type": "code",
   "execution_count": 30,
   "metadata": {},
   "outputs": [],
   "source": [
    "from sklearn.ensemble import RandomForestRegressor\n",
    "\n",
    "def get_fold_mse(train, kf):\n",
    "    mse_scores = []\n",
    "    \n",
    "    for train_index, test_index in kf.split(train):\n",
    "        fold_train, fold_test = train.loc[train_index], train.loc[test_index]\n",
    "\n",
    "        # Fit the data and make predictions\n",
    "        # Create a Random Forest object\n",
    "        rf = RandomForestRegressor(n_estimators=10, random_state=123)\n",
    "\n",
    "        # Train a model\n",
    "        rf.fit(X=fold_train[['store', 'item']], y=fold_train['sales'])\n",
    "\n",
    "        # Get predictions for the test set\n",
    "        pred = rf.predict(fold_test[['store', 'item']])\n",
    "    \n",
    "        fold_score = round(mean_squared_error(fold_test['sales'], pred), 5)\n",
    "        mse_scores.append(fold_score)\n",
    "        \n",
    "    return mse_scores"
   ]
  },
  {
   "cell_type": "code",
   "execution_count": 31,
   "metadata": {},
   "outputs": [
    {
     "name": "stdout",
     "output_type": "stream",
     "text": [
      "Mean validation MSE: 955.49186\n",
      "MSE by fold: [890.30336, 961.65797, 1014.51424]\n",
      "Overall Validation MSE: 1006.38784\n"
     ]
    }
   ],
   "source": [
    "# Initialize 3-fold time cross-validation\n",
    "kf = TimeSeriesSplit(n_splits=3)\n",
    "\n",
    "# Get MSE scores for each cross-validation split\n",
    "mse_scores = get_fold_mse(train, kf)\n",
    "\n",
    "print('Mean validation MSE: {:.5f}'.format(np.mean(mse_scores)))\n",
    "print('MSE by fold: {}'.format(mse_scores))\n",
    "print('Overall Validation MSE: {:.5f}'.format(np.mean(mse_scores) + np.std(mse_scores)))"
   ]
  },
  {
   "cell_type": "markdown",
   "metadata": {},
   "source": [
    "Congratulations, you've mastered it! Now, you know different validation strategies as well as how to use them to obtain overall model performance. It's time for the next and the most interesting part of the solution process: Feature Engineering and Modeling. See you in the next Chapters!"
   ]
  }
 ],
 "metadata": {
  "kernelspec": {
   "display_name": "Python 3",
   "language": "python",
   "name": "python3"
  },
  "language_info": {
   "codemirror_mode": {
    "name": "ipython",
    "version": 3
   },
   "file_extension": ".py",
   "mimetype": "text/x-python",
   "name": "python",
   "nbconvert_exporter": "python",
   "pygments_lexer": "ipython3",
   "version": "3.11.0"
  },
  "orig_nbformat": 4
 },
 "nbformat": 4,
 "nbformat_minor": 2
}
