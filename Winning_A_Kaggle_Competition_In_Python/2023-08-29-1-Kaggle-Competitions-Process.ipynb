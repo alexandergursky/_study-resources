{
 "cells": [
  {
   "cell_type": "markdown",
   "metadata": {},
   "source": [
    "# Kaggle competitions process\n",
    "  \n",
    "Kaggle is the most famous platform for Data Science competitions. Taking part in such competitions allows you to work with real-world datasets, explore various machine learning problems, compete with other participants and, finally, get invaluable hands-on experience. In this course, you will learn how to approach and structure any Data Science competition. You will be able to select the correct local validation scheme and to avoid overfitting. Moreover, you will master advanced feature engineering together with model ensembling approaches. All these techniques will be practiced on Kaggle competitions datasets.\n",
    "  \n",
    "In this first chapter, you will get exposure to the Kaggle competition process. You will train a model and prepare a csv file ready for submission. You will learn the difference between Public and Private test splits, and how to prevent overfitting."
   ]
  },
  {
   "cell_type": "markdown",
   "metadata": {},
   "source": [
    "## Resources\n",
    "  \n",
    "**Notebook Syntax**\n",
    "  \n",
    "<span style='color:#7393B3'>NOTE:</span>  \n",
    "- Denotes additional information deemed to be *contextually* important\n",
    "- Colored in blue, HEX #7393B3\n",
    "  \n",
    "<span style='color:#E74C3C'>WARNING:</span>  \n",
    "- Significant information that is *functionally* critical  \n",
    "- Colored in red, HEX #E74C3C\n",
    "  \n",
    "---\n",
    "  \n",
    "**Links**\n",
    "  \n",
    "[NumPy Documentation](https://numpy.org/doc/stable/user/index.html#user)  \n",
    "[Pandas Documentation](https://pandas.pydata.org/docs/user_guide/index.html#user-guide)  \n",
    "[Matplotlib Documentation](https://matplotlib.org/stable/index.html)  \n",
    "[Seaborn Documentation](https://seaborn.pydata.org)  \n",
    "[Scikit-Learn Documentation](https://scikit-learn.org/stable/)  \n",
    "[XGBoost Documentation](https://xgboost.readthedocs.io/en/stable/python/index.html)  \n",
    "  \n",
    "---\n",
    "  \n",
    "**Notable Functions**\n",
    "  \n",
    "<table>\n",
    "  <tr>\n",
    "    <th>Index</th>\n",
    "    <th>Operator</th>\n",
    "    <th>Use</th>\n",
    "  </tr>\n",
    "  <tr>\n",
    "    <td>1</td>\n",
    "    <td>seaborn.kdeplot</td>\n",
    "    <td>Plotting Kernel Density Estimates using Seaborn library.</td>\n",
    "  </tr>\n",
    "  <tr>\n",
    "    <td>2</td>\n",
    "    <td>df.nunique</td>\n",
    "    <td>Counting the number of unique values in a DataFrame <code>df</code>.</td>\n",
    "  </tr>\n",
    "  <tr>\n",
    "    <td>3</td>\n",
    "    <td>df.select_dtypes</td>\n",
    "    <td>Selecting columns from a DataFrame <code>df</code> based on their data types.</td>\n",
    "  </tr>\n",
    "  <tr>\n",
    "    <td>4</td>\n",
    "    <td>sklearn.ensemble.RandomForestRegressor</td>\n",
    "    <td>Creating a Random Forest Regressor model using scikit-learn's ensemble module.</td>\n",
    "  </tr>\n",
    "  <tr>\n",
    "    <td>5</td>\n",
    "    <td>xgboost.DMatrix</td>\n",
    "    <td>Creating a DMatrix object used in XGBoost to store data and labels.</td>\n",
    "  </tr>\n",
    "  <tr>\n",
    "    <td>6</td>\n",
    "    <td>sklearn.metrics.mean_squared_error</td>\n",
    "    <td>Calculating the mean squared error between true and predicted values using scikit-learn's metrics module.</td>\n",
    "  </tr>\n",
    "</table>\n",
    "\n",
    "  \n",
    "---\n",
    "  \n",
    "**Language and Library Information**  \n",
    "  \n",
    "Python 3.11.0  \n",
    "  \n",
    "Name: numpy  \n",
    "Version: 1.24.3  \n",
    "Summary: Fundamental package for array computing in Python  \n",
    "  \n",
    "Name: pandas  \n",
    "Version: 2.0.3  \n",
    "Summary: Powerful data structures for data analysis, time series, and statistics  \n",
    "  \n",
    "Name: matplotlib  \n",
    "Version: 3.7.2  \n",
    "Summary: Python plotting package  \n",
    "  \n",
    "Name: seaborn  \n",
    "Version: 0.12.2  \n",
    "Summary: Statistical data visualization  \n",
    "  \n",
    "Name: scikit-learn  \n",
    "Version: 1.3.0  \n",
    "Summary: A set of python modules for machine learning and data mining  \n",
    "  \n",
    "Name: xgboost  \n",
    "Version: 1.7.5  \n",
    "Summary: XGBoost Python Package  \n",
    "  \n",
    "---\n",
    "  \n",
    "**Miscellaneous Notes**\n",
    "  \n",
    "<span style='color:#7393B3'>NOTE:</span>  \n",
    "  \n",
    "`python3.11 -m IPython` : Runs python3.11 interactive jupyter notebook in terminal.\n",
    "  \n",
    "`nohup ./relo_csv_D2S.sh > ./output/relo_csv_D2S.log &` : Runs csv data pipeline in headless log.  \n",
    "  \n",
    "`print(inspect.getsourcelines(test))` : Get self-defined function schema  \n",
    "  \n",
    "<span style='color:#7393B3'>NOTE:</span>  \n",
    "  \n",
    "Snippet to plot all built-in matplotlib styles :\n",
    "  \n",
    "```python\n",
    "\n",
    "x = np.arange(-2, 8, .1)\n",
    "y = 0.1 * x ** 3 - x ** 2 + 3 * x + 2\n",
    "fig = plt.figure(dpi=100, figsize=(10, 20), tight_layout=True)\n",
    "available = ['default'] + plt.style.available\n",
    "for i, style in enumerate(available):\n",
    "    with plt.style.context(style):\n",
    "        ax = fig.add_subplot(10, 3, i + 1)\n",
    "        ax.plot(x, y)\n",
    "    ax.set_title(style)\n",
    "```\n",
    "  "
   ]
  },
  {
   "cell_type": "code",
   "execution_count": 1,
   "metadata": {},
   "outputs": [],
   "source": [
    "import numpy as np                  # Numerical Python:         Arrays and linear algebra\n",
    "import pandas as pd                 # Panel Datasets:           Dataset manipulation\n",
    "import matplotlib.pyplot as plt     # MATLAB Plotting Library:  Visualizations\n",
    "import seaborn as sns               # Seaborn:                  Visualizations\n",
    "\n",
    "# Setting a standard figure size\n",
    "plt.rcParams['figure.figsize'] = (8, 8)\n",
    "\n",
    "# Set the maximum number of columns to be displayed\n",
    "pd.set_option('display.max_columns', 50)"
   ]
  },
  {
   "cell_type": "markdown",
   "metadata": {},
   "source": [
    "## Competitions overview\n",
    "  \n",
    "Hi all! Welcome to the course on Kaggle competitions! In this course, you will develop the overall pipeline for successful participation in Machine Learning competitions. Also, you will learn some practical tips and tricks that can be used in any Machine Learning project.\n",
    "  \n",
    "**Instructor**\n",
    "  \n",
    "I will be your instructor for this course. My name is Yauhen Babakhin. I have a Master’s Degree in Applied Data Analysis and over 5 years of working experience in Data Science. I'm also a Kaggle competitions Grandmaster having gold medals in both classic Machine Learning and Deep Learning competitions.\n",
    "  \n",
    "**Kaggle**\n",
    "  \n",
    "First of all, let's discuss what Kaggle actually is. Kaggle is a web platform for Data Science and Machine Learning competitions. It allows us to solve Data Science challenges and compete with other participants in building the best predictive models.\n",
    "  \n",
    "**Kaggle benefits**\n",
    "  \n",
    "The list of Kaggle benefits is pretty long. Note that this platform could be useful for everyone: from beginners in Data Science to experienced professionals. We could get practical skills working with the real-world datasets, develop own pet projects, meet and grow with a great Kaggle community, get experience in new domain or model type, and also, keep up-to-date with the best performing machine learning methods.\n",
    "  \n",
    "- Get practical experience on the real-world data\n",
    "- Develop portfolio projects\n",
    "- Meet a great Data Science community\n",
    "- Try new domain or model type\n",
    "- Keep up-to-date with the best performing methods\n",
    "  \n",
    "**Competition process**\n",
    "  \n",
    "The general competition process consists of three major stages. Firstly, Kaggle gives us a problem definition, and data to resolve this problem.\n",
    "  \n",
    "Then, we're developing a Machine Learning model and preparing the submission file that is uploaded to Kaggle.\n",
    "  \n",
    "Finally, our submission is shown on the so-called \"Leaderboard\" together with the position relative to other competitors.\n",
    "  \n",
    "<center><img src='../_images/kaggle-introduction.png' alt='img' width='740'></center>\n",
    "  \n",
    "**How to participate**\n",
    "  \n",
    "To start competing on Kaggle, we should perform three simple steps. Firstly, go to the Kaggle website and select any active competition we're interested in. Then, download the data available in the competition. That's it! Now, we're ready to start exploring the data and build Machine Learning models.\n",
    "  \n",
    "**New York city taxi fare prediction**\n",
    "  \n",
    "As an example, we will work with a past Kaggle playground competition called New York city taxi fare prediction. The goal of this challenge is to predict the fare amount for a taxi ride in New York City given the pickup and dropoff locations.\n",
    "  \n",
    "<center><img src='../_images/kaggle-introduction1.png' alt='img' width='740'></center>\n",
    "  \n",
    "**Train and Test data**\n",
    "  \n",
    "The typical data structure in Kaggle competitions consists of two major parts: train and test datasets. Our goal is to prepare a model on the train dataset given some labels. Afterwards, we should make predictions on the test set. Let's read the train dataset from New York taxi competition using `pandas` library and look at the columns available there. The first column is an ID variable called 'key'. The 'fare_amount' is a target variable we'd like to predict. And the rest of the columns are features we could use to build the model. Now, let's move on to the test set. It has the same list of columns except for the 'fare_amount', as this is the column we should predict.\n",
    "  \n",
    "<center><img src='../_images/kaggle-introduction2.png' alt='img' width='740'></center>\n",
    "  \n",
    "**Sample submission**\n",
    "  \n",
    "After we have built a model, we could make predictions on the test set and save them as a .csv file. This .csv file could be submitted to Kaggle. Every Kaggle competition provides a sample submission file. This file shows the correct format and structure of the submission. Let's take a look at the head of the sample submission in the taxi fare prediction challenge. As expected, it consists of two columns: the ID column and 'fare_amount' we're predicting.\n",
    "  \n",
    "<center><img src='../_images/kaggle-introduction3.png' alt='img' width='740'></center>\n",
    "  \n",
    "**Let's practice!**\n",
    "  \n",
    "All right, now let's explore train and test datasets from another Kaggle competition."
   ]
  },
  {
   "cell_type": "markdown",
   "metadata": {},
   "source": [
    "### Explore train data\n",
    "  \n",
    "You will work with another Kaggle competition called \"Store Item Demand Forecasting Challenge\". In this competition, you are given 5 years of store-item sales data, and asked to predict 3 months of sales for 50 different items in 10 different stores.\n",
    "  \n",
    "To begin, let's explore the train data for this competition. For the faster performance, you will work with a subset of the train data containing only a single month history.\n",
    "  \n",
    "Your initial goal is to read the input data and take the first look at it.\n",
    "  \n",
    "---\n",
    "  \n",
    "1. Import `pandas` as `pd`.\n",
    "2. Read train data using `pandas`' `.read_csv()` method.\n",
    "3. Print the head of the train data (using `.head()` method) to see the data sample."
   ]
  },
  {
   "cell_type": "code",
   "execution_count": 2,
   "metadata": {},
   "outputs": [
    {
     "name": "stdout",
     "output_type": "stream",
     "text": [
      "Train shape: (15500, 5)\n"
     ]
    },
    {
     "data": {
      "text/html": [
       "<div>\n",
       "<style scoped>\n",
       "    .dataframe tbody tr th:only-of-type {\n",
       "        vertical-align: middle;\n",
       "    }\n",
       "\n",
       "    .dataframe tbody tr th {\n",
       "        vertical-align: top;\n",
       "    }\n",
       "\n",
       "    .dataframe thead th {\n",
       "        text-align: right;\n",
       "    }\n",
       "</style>\n",
       "<table border=\"1\" class=\"dataframe\">\n",
       "  <thead>\n",
       "    <tr style=\"text-align: right;\">\n",
       "      <th></th>\n",
       "      <th>id</th>\n",
       "      <th>date</th>\n",
       "      <th>store</th>\n",
       "      <th>item</th>\n",
       "      <th>sales</th>\n",
       "    </tr>\n",
       "  </thead>\n",
       "  <tbody>\n",
       "    <tr>\n",
       "      <th>0</th>\n",
       "      <td>100000</td>\n",
       "      <td>2017-12-01</td>\n",
       "      <td>1</td>\n",
       "      <td>1</td>\n",
       "      <td>19</td>\n",
       "    </tr>\n",
       "    <tr>\n",
       "      <th>1</th>\n",
       "      <td>100001</td>\n",
       "      <td>2017-12-02</td>\n",
       "      <td>1</td>\n",
       "      <td>1</td>\n",
       "      <td>16</td>\n",
       "    </tr>\n",
       "    <tr>\n",
       "      <th>2</th>\n",
       "      <td>100002</td>\n",
       "      <td>2017-12-03</td>\n",
       "      <td>1</td>\n",
       "      <td>1</td>\n",
       "      <td>31</td>\n",
       "    </tr>\n",
       "    <tr>\n",
       "      <th>3</th>\n",
       "      <td>100003</td>\n",
       "      <td>2017-12-04</td>\n",
       "      <td>1</td>\n",
       "      <td>1</td>\n",
       "      <td>7</td>\n",
       "    </tr>\n",
       "    <tr>\n",
       "      <th>4</th>\n",
       "      <td>100004</td>\n",
       "      <td>2017-12-05</td>\n",
       "      <td>1</td>\n",
       "      <td>1</td>\n",
       "      <td>20</td>\n",
       "    </tr>\n",
       "  </tbody>\n",
       "</table>\n",
       "</div>"
      ],
      "text/plain": [
       "       id        date  store  item  sales\n",
       "0  100000  2017-12-01      1     1     19\n",
       "1  100001  2017-12-02      1     1     16\n",
       "2  100002  2017-12-03      1     1     31\n",
       "3  100003  2017-12-04      1     1      7\n",
       "4  100004  2017-12-05      1     1     20"
      ]
     },
     "execution_count": 2,
     "metadata": {},
     "output_type": "execute_result"
    }
   ],
   "source": [
    "# Read train data\n",
    "train = pd.read_csv('../_datasets/demand_forecasting_train_1_month.csv')\n",
    "\n",
    "# Look at the shape of the data\n",
    "print('Train shape:', train.shape)\n",
    "\n",
    "# Look at the head() of the data\n",
    "train.head()"
   ]
  },
  {
   "cell_type": "code",
   "execution_count": 3,
   "metadata": {},
   "outputs": [
    {
     "data": {
      "text/html": [
       "<div>\n",
       "<style scoped>\n",
       "    .dataframe tbody tr th:only-of-type {\n",
       "        vertical-align: middle;\n",
       "    }\n",
       "\n",
       "    .dataframe tbody tr th {\n",
       "        vertical-align: top;\n",
       "    }\n",
       "\n",
       "    .dataframe thead th {\n",
       "        text-align: right;\n",
       "    }\n",
       "</style>\n",
       "<table border=\"1\" class=\"dataframe\">\n",
       "  <thead>\n",
       "    <tr style=\"text-align: right;\">\n",
       "      <th></th>\n",
       "      <th>id</th>\n",
       "      <th>store</th>\n",
       "      <th>item</th>\n",
       "      <th>sales</th>\n",
       "    </tr>\n",
       "  </thead>\n",
       "  <tbody>\n",
       "    <tr>\n",
       "      <th>count</th>\n",
       "      <td>15500.000000</td>\n",
       "      <td>15500.000000</td>\n",
       "      <td>15500.000000</td>\n",
       "      <td>15500.000000</td>\n",
       "    </tr>\n",
       "    <tr>\n",
       "      <th>mean</th>\n",
       "      <td>107749.500000</td>\n",
       "      <td>5.500000</td>\n",
       "      <td>25.500000</td>\n",
       "      <td>44.849677</td>\n",
       "    </tr>\n",
       "    <tr>\n",
       "      <th>std</th>\n",
       "      <td>4474.608921</td>\n",
       "      <td>2.872374</td>\n",
       "      <td>14.431335</td>\n",
       "      <td>22.617654</td>\n",
       "    </tr>\n",
       "    <tr>\n",
       "      <th>min</th>\n",
       "      <td>100000.000000</td>\n",
       "      <td>1.000000</td>\n",
       "      <td>1.000000</td>\n",
       "      <td>3.000000</td>\n",
       "    </tr>\n",
       "    <tr>\n",
       "      <th>25%</th>\n",
       "      <td>103874.750000</td>\n",
       "      <td>3.000000</td>\n",
       "      <td>13.000000</td>\n",
       "      <td>26.000000</td>\n",
       "    </tr>\n",
       "    <tr>\n",
       "      <th>50%</th>\n",
       "      <td>107749.500000</td>\n",
       "      <td>5.500000</td>\n",
       "      <td>25.500000</td>\n",
       "      <td>42.000000</td>\n",
       "    </tr>\n",
       "    <tr>\n",
       "      <th>75%</th>\n",
       "      <td>111624.250000</td>\n",
       "      <td>8.000000</td>\n",
       "      <td>38.000000</td>\n",
       "      <td>60.000000</td>\n",
       "    </tr>\n",
       "    <tr>\n",
       "      <th>max</th>\n",
       "      <td>115499.000000</td>\n",
       "      <td>10.000000</td>\n",
       "      <td>50.000000</td>\n",
       "      <td>129.000000</td>\n",
       "    </tr>\n",
       "  </tbody>\n",
       "</table>\n",
       "</div>"
      ],
      "text/plain": [
       "                  id         store          item         sales\n",
       "count   15500.000000  15500.000000  15500.000000  15500.000000\n",
       "mean   107749.500000      5.500000     25.500000     44.849677\n",
       "std      4474.608921      2.872374     14.431335     22.617654\n",
       "min    100000.000000      1.000000      1.000000      3.000000\n",
       "25%    103874.750000      3.000000     13.000000     26.000000\n",
       "50%    107749.500000      5.500000     25.500000     42.000000\n",
       "75%    111624.250000      8.000000     38.000000     60.000000\n",
       "max    115499.000000     10.000000     50.000000    129.000000"
      ]
     },
     "execution_count": 3,
     "metadata": {},
     "output_type": "execute_result"
    }
   ],
   "source": [
    "train.describe()"
   ]
  },
  {
   "cell_type": "code",
   "execution_count": 4,
   "metadata": {},
   "outputs": [
    {
     "name": "stdout",
     "output_type": "stream",
     "text": [
      "<class 'pandas.core.frame.DataFrame'>\n",
      "RangeIndex: 15500 entries, 0 to 15499\n",
      "Data columns (total 5 columns):\n",
      " #   Column  Non-Null Count  Dtype \n",
      "---  ------  --------------  ----- \n",
      " 0   id      15500 non-null  int64 \n",
      " 1   date    15500 non-null  object\n",
      " 2   store   15500 non-null  int64 \n",
      " 3   item    15500 non-null  int64 \n",
      " 4   sales   15500 non-null  int64 \n",
      "dtypes: int64(4), object(1)\n",
      "memory usage: 605.6+ KB\n"
     ]
    }
   ],
   "source": [
    "train.info()"
   ]
  },
  {
   "cell_type": "code",
   "execution_count": 5,
   "metadata": {},
   "outputs": [
    {
     "name": "stdout",
     "output_type": "stream",
     "text": [
      "Column \"id\" has 15500 unique value(s).\n",
      "Column \"date\" has 31 unique value(s).\n",
      "Column \"store\" has 10 unique value(s).\n",
      "Column \"item\" has 50 unique value(s).\n",
      "Column \"sales\" has 123 unique value(s).\n"
     ]
    }
   ],
   "source": [
    "unique_counts = train.nunique()\n",
    "for col, count in unique_counts.items():\n",
    "    print('Column \"{}\" has {} unique value(s).'.format(col, count))"
   ]
  },
  {
   "cell_type": "code",
   "execution_count": 6,
   "metadata": {},
   "outputs": [
    {
     "data": {
      "image/png": "[encoded data removed]",
      "text/plain": [
       "<Figure size 800x800 with 1 Axes>"
      ]
     },
     "metadata": {},
     "output_type": "display_data"
    },
    {
     "data": {
      "image/png": "[encoded data removed]",
      "text/plain": [
       "<Figure size 800x800 with 1 Axes>"
      ]
     },
     "metadata": {},
     "output_type": "display_data"
    },
    {
     "data": {
      "image/png": "[encoded data removed]",
      "text/plain": [
       "<Figure size 800x800 with 1 Axes>"
      ]
     },
     "metadata": {},
     "output_type": "display_data"
    },
    {
     "data": {
      "image/png": "[encoded data removed]",
      "text/plain": [
       "<Figure size 800x800 with 1 Axes>"
      ]
     },
     "metadata": {},
     "output_type": "display_data"
    }
   ],
   "source": [
    "selected_cols = train.select_dtypes(exclude='object').columns  # df.mask.select\n",
    "\n",
    "for column in selected_cols:\n",
    "    plt.figure()\n",
    "    sns.kdeplot(data=train[column], linewidth=2)\n",
    "    plt.title('Density Distribution for {}'.format(column))\n",
    "    plt.xlabel('Values')\n",
    "    plt.ylabel('Density')\n",
    "\n",
    "plt.show()    "
   ]
  },
  {
   "cell_type": "markdown",
   "metadata": {},
   "source": [
    "Congratulations, you've gotten started with your first Kaggle dataset! It contains 15,500 daily observations of the sales data."
   ]
  },
  {
   "cell_type": "markdown",
   "metadata": {},
   "source": [
    "### Explore test data\n",
    "  \n",
    "Having looked at the train data, let's explore the test data in the \"Store Item Demand Forecasting Challenge\". Remember, that the test dataset generally contains one column less than the train one.\n",
    "  \n",
    "This column, together with the output format, is presented in the sample submission file. Before making any progress in the competition, you should get familiar with the expected output.\n",
    "  \n",
    "That is why, let's look at the columns of the test dataset and compare it to the train columns. Additionally, let's explore the format of the sample submission. The `train` DataFrame is available in your workspace.\n",
    "  \n",
    "---\n",
    "  \n",
    "1. Read the test dataset.\n",
    "2. Print the column names of the train and test datasets.\n",
    "3. Notice that test columns do not have the target \"sales\" column. Now, read the sample submission file.\n",
    "4. Look at the head of the submission file to get the output format."
   ]
  },
  {
   "cell_type": "code",
   "execution_count": 7,
   "metadata": {},
   "outputs": [
    {
     "name": "stdout",
     "output_type": "stream",
     "text": [
      "Train columns: \t['id', 'date', 'store', 'item', 'sales']\n",
      "Test columns: \t['id', 'date', 'store', 'item']\n"
     ]
    }
   ],
   "source": [
    "# Read the test data\n",
    "test = pd.read_csv('../_datasets/demand_forecasting_test.csv')\n",
    "\n",
    "# Print train and test columns\n",
    "print('Train columns: \\t{}'.format(train.columns.tolist()))\n",
    "print('Test columns: \\t{}'.format(test.columns.tolist()))"
   ]
  },
  {
   "cell_type": "code",
   "execution_count": 8,
   "metadata": {},
   "outputs": [
    {
     "name": "stdout",
     "output_type": "stream",
     "text": [
      "   id  sales\n",
      "0   0     52\n",
      "1   1     52\n",
      "2   2     52\n",
      "3   3     52\n",
      "4   4     52\n"
     ]
    }
   ],
   "source": [
    "# Read the sample submission file\n",
    "sample_submission = pd.read_csv('../_datasets/sample_submission.csv')\n",
    "\n",
    "# Look at the head() of the sample submission\n",
    "print(sample_submission.head())"
   ]
  },
  {
   "cell_type": "markdown",
   "metadata": {},
   "source": [
    "The sample submission file consists of two columns: `id` of the observation and `sales` column for your predictions. Kaggle will evaluate your predictions on the true `sales` data for the corresponding `id`. So, it’s important to keep track of the predictions by `id` before submitting them. Let’s jump in the next lesson to see how to prepare a submission file!"
   ]
  },
  {
   "cell_type": "markdown",
   "metadata": {},
   "source": [
    "## Prepare your first submission\n",
    "  \n",
    "We already know how to explore the train data, and how to determine what our submission file should look like. Let’s learn how to prepare our first Kaggle submission.\n",
    "  \n",
    "**What is submission**\n",
    "  \n",
    "Recall the graph of the competition process. In this lesson, we will talk about the green block. It consists of building the model and preparing the submission file. Submission is usually a .csv file that contains our test predictions and is submitted to the Kaggle platform. Kaggle internally measures the quality of the predictions and shows the results on the Leaderboard. We will talk about the Leaderboard in the next lesson.\n",
    "  \n",
    "<center><img src='../_images/prepare-your-first-submission.png' alt='img' width='740'></center>\n",
    "  \n",
    "**New York city taxi fare prediction**\n",
    "  \n",
    "We will again work with the taxi fare prediction problem. Recall that the train data contains target variable 'fare_amount' and some other features like pickup and dropoff positions, together with pickup datetime and the number of passengers. Under features, we mean all the variables that are used to predict a target variable.\n",
    "  \n",
    "<center><img src='../_images/prepare-your-first-submission1.png' alt='img' width='740'></center>\n",
    "  \n",
    "**Problem type**\n",
    "  \n",
    "Before creating any Machine Learning model, we should determine the problem type we're addressing: whether it's classification, regression or some other problem. For this purpose, let's plot a distribution of the 'fare_amount' column on a histogram using `pandas` `.hist()` method. It's clear from the image that 'fare_amount' is a continuous variable. That's why we're dealing with a regression problem.\n",
    "  \n",
    "<center><img src='../_images/prepare-your-first-submission2.png' alt='img' width='740'></center>\n",
    "  \n",
    "**Build a model**\n",
    "  \n",
    "What is the simplest method that comes to mind when we hear about the regression problem? Of course, the linear regression. Let's take a couple of features available in the train set and build a simple linear regression model using scikit-learn, initially creating a LinearRegression object and then fitting it on the train data. Note that to select multiple columns in `pandas` DataFrame we need to use double brackets.\n",
    "  \n",
    "<center><img src='../_images/prepare-your-first-submission3.png' alt='img' width='740'></center>\n",
    "  \n",
    "**Predict on test set**\n",
    "  \n",
    "After we've trained a model, the next step is to make predictions on the test set. Select the set of columns the model has been trained on. Then take the fitted LinearRegression object, built in the previous slide, and predict the fare amount. The predictions results will be stored in a new 'fare_amount' column.\n",
    "  \n",
    "<center><img src='../_images/prepare-your-first-submission4.png' alt='img' width='740'></center>\n",
    "  \n",
    "**Prepare submission**\n",
    "  \n",
    "Having made test predictions, we prepare a submission file. Usually, Kaggle submission files are in a .csv format with 2 columns: ID and target variable predicted. As we already know, the format of the output file is specified in the sample submission. Let's look at the one from the taxi fare competition. It consists of columns 'key' and 'fare_amount'. So, select these columns from the test DataFrame and save them into the .csv file. To write DataFrame to the .csv file, use `pandas` `.to_csv()` method. The resulting file is ready to be submitted on Kaggle! In the next lesson, we'll learn more about the submission upload to Kaggle.\n",
    "  \n",
    "<center><img src='../_images/prepare-your-first-submission5.png' alt='img' width='740'></center>\n",
    "  \n",
    "**Let's practice!**\n",
    "  \n",
    "But first, let's practice! You've seen how to develop a simple model and prepare the results for the submission. Now, it's your turn to prepare a submission file for the Demand Forecasting Challenge."
   ]
  },
  {
   "cell_type": "markdown",
   "metadata": {},
   "source": [
    "### Determine a problem type\n",
    "  \n",
    "You will keep working on the Store Item Demand Forecasting Challenge. Recall that you are given a history of store-item sales data, and asked to predict 3 months of the future sales.\n",
    "  \n",
    "Before building a model, you should determine the problem type you are addressing. The goal of this exercise is to look at the distribution of the target variable, and select the correct problem type you will be building a model for.\n",
    "  \n",
    "The train DataFrame is already available in your workspace. It has the target variable column called \"sales\". Also, `matplotlib.pyplot` is already imported as `plt`.\n",
    "  \n",
    "---\n",
    "  \n",
    "Possible answers\n",
    "  \n",
    "- [ ] Classification.\n",
    "- [x] Regression.\n",
    "- [ ] Clustering.\n",
    "  \n",
    "Solution:\n",
    "  \n",
    "```python\n",
    "df.sales.hist()\n",
    "plt.show()\n",
    "```\n",
    "  \n",
    "That's correct! The sales variable is continuous, so you're solving a regression problem."
   ]
  },
  {
   "cell_type": "markdown",
   "metadata": {},
   "source": [
    "### Train a simple model\n",
    "  \n",
    "As you determined, you are dealing with a regression problem. So, now you're ready to build a model for a subsequent submission. But now, instead of building the simplest Linear Regression model as in the slides, let's build an out-of-box Random Forest model.\n",
    "  \n",
    "You will use the `RandomForestRegressor` class from the scikit-learn library.\n",
    "  \n",
    "Your objective is to train a Random Forest model with default parameters on the \"store\" and \"item\" features.\n",
    "  \n",
    "---\n",
    "  \n",
    "1. Read the train data using `pandas`.\n",
    "2. Create a Random Forest object.\n",
    "3. Train the Random Forest model on the \"store\" and \"item\" features with \"sales\" as a target."
   ]
  },
  {
   "cell_type": "code",
   "execution_count": 9,
   "metadata": {},
   "outputs": [
    {
     "data": {
      "text/html": [
       "<style>#sk-container-id-1 {color: black;}#sk-container-id-1 pre{padding: 0;}#sk-container-id-1 div.sk-toggleable {background-color: white;}#sk-container-id-1 label.sk-toggleable__label {cursor: pointer;display: block;width: 100%;margin-bottom: 0;padding: 0.3em;box-sizing: border-box;text-align: center;}#sk-container-id-1 label.sk-toggleable__label-arrow:before {content: \"▸\";float: left;margin-right: 0.25em;color: #696969;}#sk-container-id-1 label.sk-toggleable__label-arrow:hover:before {color: black;}#sk-container-id-1 div.sk-estimator:hover label.sk-toggleable__label-arrow:before {color: black;}#sk-container-id-1 div.sk-toggleable__content {max-height: 0;max-width: 0;overflow: hidden;text-align: left;background-color: #f0f8ff;}#sk-container-id-1 div.sk-toggleable__content pre {margin: 0.2em;color: black;border-radius: 0.25em;background-color: #f0f8ff;}#sk-container-id-1 input.sk-toggleable__control:checked~div.sk-toggleable__content {max-height: 200px;max-width: 100%;overflow: auto;}#sk-container-id-1 input.sk-toggleable__control:checked~label.sk-toggleable__label-arrow:before {content: \"▾\";}#sk-container-id-1 div.sk-estimator input.sk-toggleable__control:checked~label.sk-toggleable__label {background-color: #d4ebff;}#sk-container-id-1 div.sk-label input.sk-toggleable__control:checked~label.sk-toggleable__label {background-color: #d4ebff;}#sk-container-id-1 input.sk-hidden--visually {border: 0;clip: rect(1px 1px 1px 1px);clip: rect(1px, 1px, 1px, 1px);height: 1px;margin: -1px;overflow: hidden;padding: 0;position: absolute;width: 1px;}#sk-container-id-1 div.sk-estimator {font-family: monospace;background-color: #f0f8ff;border: 1px dotted black;border-radius: 0.25em;box-sizing: border-box;margin-bottom: 0.5em;}#sk-container-id-1 div.sk-estimator:hover {background-color: #d4ebff;}#sk-container-id-1 div.sk-parallel-item::after {content: \"\";width: 100%;border-bottom: 1px solid gray;flex-grow: 1;}#sk-container-id-1 div.sk-label:hover label.sk-toggleable__label {background-color: #d4ebff;}#sk-container-id-1 div.sk-serial::before {content: \"\";position: absolute;border-left: 1px solid gray;box-sizing: border-box;top: 0;bottom: 0;left: 50%;z-index: 0;}#sk-container-id-1 div.sk-serial {display: flex;flex-direction: column;align-items: center;background-color: white;padding-right: 0.2em;padding-left: 0.2em;position: relative;}#sk-container-id-1 div.sk-item {position: relative;z-index: 1;}#sk-container-id-1 div.sk-parallel {display: flex;align-items: stretch;justify-content: center;background-color: white;position: relative;}#sk-container-id-1 div.sk-item::before, #sk-container-id-1 div.sk-parallel-item::before {content: \"\";position: absolute;border-left: 1px solid gray;box-sizing: border-box;top: 0;bottom: 0;left: 50%;z-index: -1;}#sk-container-id-1 div.sk-parallel-item {display: flex;flex-direction: column;z-index: 1;position: relative;background-color: white;}#sk-container-id-1 div.sk-parallel-item:first-child::after {align-self: flex-end;width: 50%;}#sk-container-id-1 div.sk-parallel-item:last-child::after {align-self: flex-start;width: 50%;}#sk-container-id-1 div.sk-parallel-item:only-child::after {width: 0;}#sk-container-id-1 div.sk-dashed-wrapped {border: 1px dashed gray;margin: 0 0.4em 0.5em 0.4em;box-sizing: border-box;padding-bottom: 0.4em;background-color: white;}#sk-container-id-1 div.sk-label label {font-family: monospace;font-weight: bold;display: inline-block;line-height: 1.2em;}#sk-container-id-1 div.sk-label-container {text-align: center;}#sk-container-id-1 div.sk-container {/* jupyter's `normalize.less` sets `[hidden] { display: none; }` but bootstrap.min.css set `[hidden] { display: none !important; }` so we also need the `!important` here to be able to override the default hidden behavior on the sphinx rendered scikit-learn.org. See: https://github.com/scikit-learn/scikit-learn/issues/21755 */display: inline-block !important;position: relative;}#sk-container-id-1 div.sk-text-repr-fallback {display: none;}</style><div id=\"sk-container-id-1\" class=\"sk-top-container\"><div class=\"sk-text-repr-fallback\"><pre>RandomForestRegressor()</pre><b>In a Jupyter environment, please rerun this cell to show the HTML representation or trust the notebook. <br />On GitHub, the HTML representation is unable to render, please try loading this page with nbviewer.org.</b></div><div class=\"sk-container\" hidden><div class=\"sk-item\"><div class=\"sk-estimator sk-toggleable\"><input class=\"sk-toggleable__control sk-hidden--visually\" id=\"sk-estimator-id-1\" type=\"checkbox\" checked><label for=\"sk-estimator-id-1\" class=\"sk-toggleable__label sk-toggleable__label-arrow\">RandomForestRegressor</label><div class=\"sk-toggleable__content\"><pre>RandomForestRegressor()</pre></div></div></div></div></div>"
      ],
      "text/plain": [
       "RandomForestRegressor()"
      ]
     },
     "execution_count": 9,
     "metadata": {},
     "output_type": "execute_result"
    }
   ],
   "source": [
    "from sklearn.ensemble import RandomForestRegressor\n",
    "\n",
    "# Create a RandomForest object\n",
    "rf = RandomForestRegressor()\n",
    "\n",
    "# Train a model\n",
    "rf.fit(\n",
    "    X=train[['store', 'item']],\n",
    "    y=train['sales']\n",
    ")"
   ]
  },
  {
   "cell_type": "markdown",
   "metadata": {},
   "source": [
    "Congratulations, you've built the first simple model. Now it's time to use it for the test predictions. Go on to the next step!"
   ]
  },
  {
   "cell_type": "markdown",
   "metadata": {},
   "source": [
    "### Prepare a submission\n",
    "  \n",
    "You've already built a model on the training data from the Kaggle Store Item Demand Forecasting Challenge. Now, it's time to make predictions on the test data and create a submission file in the specified format.\n",
    "  \n",
    "Your goal is to read the test data, make predictions, and save these in the format specified in the \"sample_submission.csv\" file. The rf object you created in the previous exercise is available in your workspace.\n",
    "  \n",
    "Note that starting from now and for the rest of the course, `pandas` library will be always imported for you and could be accessed as `pd`.\n",
    "  \n",
    "---\n",
    "  \n",
    "1. Read \"test.csv\" and \"sample_submission.csv\" files using `pandas`.\n",
    "2. Look at the head of the sample submission to determine the format.\n",
    "3. Note that sample submission has id and sales columns. Now, make predictions on the test data using the `rf` model, that you fitted on the train data.\n",
    "4. Using the format given in the sample submission, write your results to a new file."
   ]
  },
  {
   "cell_type": "code",
   "execution_count": 10,
   "metadata": {},
   "outputs": [
    {
     "data": {
      "text/html": [
       "<div>\n",
       "<style scoped>\n",
       "    .dataframe tbody tr th:only-of-type {\n",
       "        vertical-align: middle;\n",
       "    }\n",
       "\n",
       "    .dataframe tbody tr th {\n",
       "        vertical-align: top;\n",
       "    }\n",
       "\n",
       "    .dataframe thead th {\n",
       "        text-align: right;\n",
       "    }\n",
       "</style>\n",
       "<table border=\"1\" class=\"dataframe\">\n",
       "  <thead>\n",
       "    <tr style=\"text-align: right;\">\n",
       "      <th></th>\n",
       "      <th>id</th>\n",
       "      <th>sales</th>\n",
       "    </tr>\n",
       "  </thead>\n",
       "  <tbody>\n",
       "    <tr>\n",
       "      <th>0</th>\n",
       "      <td>0</td>\n",
       "      <td>52</td>\n",
       "    </tr>\n",
       "    <tr>\n",
       "      <th>1</th>\n",
       "      <td>1</td>\n",
       "      <td>52</td>\n",
       "    </tr>\n",
       "    <tr>\n",
       "      <th>2</th>\n",
       "      <td>2</td>\n",
       "      <td>52</td>\n",
       "    </tr>\n",
       "    <tr>\n",
       "      <th>3</th>\n",
       "      <td>3</td>\n",
       "      <td>52</td>\n",
       "    </tr>\n",
       "    <tr>\n",
       "      <th>4</th>\n",
       "      <td>4</td>\n",
       "      <td>52</td>\n",
       "    </tr>\n",
       "  </tbody>\n",
       "</table>\n",
       "</div>"
      ],
      "text/plain": [
       "   id  sales\n",
       "0   0     52\n",
       "1   1     52\n",
       "2   2     52\n",
       "3   3     52\n",
       "4   4     52"
      ]
     },
     "execution_count": 10,
     "metadata": {},
     "output_type": "execute_result"
    }
   ],
   "source": [
    "# Show the head() of the sample_submission\n",
    "sample_submission.head()"
   ]
  },
  {
   "cell_type": "code",
   "execution_count": 12,
   "metadata": {},
   "outputs": [],
   "source": [
    "# Get predictions for the test set\n",
    "test['sales'] = rf.predict(test[['store', 'item']])\n",
    "\n",
    "# Write test predictions using the sample_submission format\n",
    "test[['id', 'sales']].to_csv('../_output/kaggle_submission.csv', index=False)"
   ]
  },
  {
   "cell_type": "code",
   "execution_count": 13,
   "metadata": {},
   "outputs": [
    {
     "name": "stdout",
     "output_type": "stream",
     "text": [
      "id,sales\n",
      "0,17.157153224442446\n",
      "1,17.157153224442446\n",
      "2,17.157153224442446\n",
      "3,17.157153224442446\n",
      "4,17.157153224442446\n",
      "5,17.157153224442446\n",
      "6,17.157153224442446\n",
      "7,17.157153224442446\n",
      "8,17.157153224442446\n"
     ]
    }
   ],
   "source": [
    "!head ../_output/kaggle_submission.csv"
   ]
  },
  {
   "cell_type": "markdown",
   "metadata": {},
   "source": [
    "Congratulations! You've prepared your first Kaggle submission. Now, you could upload it to the Kaggle platform and see your score and current position on the Leaderboard. Move forward to learn more about the Leaderboard itself!"
   ]
  },
  {
   "cell_type": "markdown",
   "metadata": {},
   "source": [
    "## Public vs Private leaderboard\n",
    "  \n",
    "In the previous lesson, we prepared and saved our first submission to a .csv file. Now, we will talk about how Kaggle processes the submissions.\n",
    "  \n",
    "**Competition metric**\n",
    "  \n",
    "Each competition specifies a single metric that is used to rank the participants. The better metric value our model achieves, the better position we obtain. So, our goal in the competition is to build a model that optimizes the metric given. Here is a list of metrics most frequently used in the competitions and type of problems they appear in.\n",
    "  \n",
    "<table>\n",
    "<thead>\n",
    "<tr>\n",
    "  <th>Evaluation metric</th>\n",
    "  <th>Type of problem</th>\n",
    "</tr>\n",
    "</thead>\n",
    "<tbody>\n",
    "<tr>\n",
    "  <td>Area Under the ROC (AUC)</td>\n",
    "  <td>Classification</td>\n",
    "</tr>\n",
    "<tr>\n",
    "  <td>F1 score (F1)</td>\n",
    "  <td>Classification</td>\n",
    "</tr>\n",
    "<tr>\n",
    "  <td>Mean Log Loss (LogLoss)</td>\n",
    "  <td>Classification</td>\n",
    "</tr>\n",
    "<tr>\n",
    "  <td>Mean Absolute Error (MAE)</td>\n",
    "  <td>Regression</td>\n",
    "</tr>\n",
    "<tr>\n",
    "  <td>Mean Squared Erro (MSE)</td>\n",
    "  <td>Regression</td>\n",
    "</tr>\n",
    "<tr>\n",
    "  <td>Mean Average Precision at K (MAPK, MAP@K)</td>\n",
    "  <td>Ranking</td>\n",
    "</tr>\n",
    "</tbody>\n",
    "</table>\n",
    "  \n",
    "**Test split**\n",
    "  \n",
    "While preparing the submission, we have to make predictions for all the observations in the test set. However, Kaggle internally splits test data into two subsets: Public and Private. This split is unknown and it is the same for all the participants. During the competition, we could see the results and standings on the Public test data. The Private test data is only used to determine the final standings at the end of the competition.\n",
    "  \n",
    "<center><img src='../_images/public-vs-private-kaggle.png' alt='img' width='740'></center>\n",
    "  \n",
    "**Leaderboards**\n",
    "  \n",
    "In the previous lesson we prepared the submission file and wrote it to the disk. Now, we can go to the competition website and upload our submission. Usually, competitions have a limit of about 5 submissions available per day. Once we submit our file, Kaggle internally calculates the competition metric on the whole test set, but shows the result only on the Public part. So, we see the standings on so-called 'Public Leaderboard' (denoted as LB). On the other hand, Private Leaderboard score is unknown until the competition deadline. For example, if we've submitted a file called submission_1.csv and the competition metric is Mean Squared Error, then we will know the result only on the Public Leaderboard.\n",
    "  \n",
    "<center><img src='../_images/public-vs-private-kaggle1.png' alt='img' width='740'></center>\n",
    "  \n",
    "**Overfitting**\n",
    "  \n",
    "As long as we could track the results only on the Public Leaderboard, we could potentially overfit to it. So, what is overfitting? Suppose we're developing a Machine Learning model and measure the error rate on both train and test data. While increasing the model complexity, the train error generally goes down. It happens because the model learns the train data so well, that it performs great on it with very little error. However, test error at some point could go up.\n",
    "  \n",
    "<center><img src='../_images/public-vs-private-kaggle2.png' alt='img' width='740'></center>\n",
    "  \n",
    "It's exactly the starting point of the overfitting. From this moment the model finds some very specific dependencies in the train data (lowering its error), that are unable to generalize well (increasing the test error).\n",
    "  \n",
    "<center><img src='../_images/public-vs-private-kaggle3.png' alt='img' width='740'></center>\n",
    "  \n",
    "The same could happen with Public and Private Leaderboards. If we only look at the results on the Public Leaderboard, we could potentially overfit to it. Thus, our Private Leaderboard score will be considerably worse together with our final place in the competition. To beat the overfitting in both real-life projects and competitions, we need to use a good validation strategy. We will talk about it in the next chapter.\n",
    "  \n",
    "<center><img src='../_images/public-vs-private-kaggle4.png' alt='img' width='740'></center>\n",
    "  \n",
    "**Public vs Private leaderboard shake-up**\n",
    "  \n",
    "The difference between Public and Private leaderboards standings is called a 'shake-up'. The size of the shake-up is highly different from one competition to another. On the left image, we see a competition example with a small shake-up. The movements in Private Leaderboard were about 2-3 places up and down compared to the Public Leaderboard. While the image on the right represents a competition with a huge shake-up. The winner of the competition had only 1485th place on the Public Leaderboard.\n",
    "  \n",
    "<center><img src='../_images/public-vs-private-kaggle5.png' alt='img' width='740'></center>\n",
    "  \n",
    "**Let's practice!**\n",
    "  \n",
    "Now you're aware of overfitting and the difference between Public and Private Leaderboards in Kaggle competitions. Let's explore the overfitting on practice!"
   ]
  },
  {
   "cell_type": "markdown",
   "metadata": {},
   "source": [
    "### What model is overfitting?\n",
    "  \n",
    "Let's say you've trained 4 different models and calculated a metric for both train and validation data sets. For example, the metric is Mean Squared Error (the lower its value the better). Train and validation metrics for all the models are presented in the table below.\n",
    "  \n",
    "Please, select the model that overfits to train data.\n",
    "  \n",
    "<table>\n",
    "<thead>\n",
    "<tr>\n",
    "<th>Model</th>\n",
    "<th>Train MSE</th>\n",
    "<th>Validation MSE</th>\n",
    "</tr>\n",
    "</thead>\n",
    "<tbody>\n",
    "<tr>\n",
    "<td>Model 1</td>\n",
    "<td>2.35</td>\n",
    "<td>2.46</td>\n",
    "</tr>\n",
    "<tr>\n",
    "<td>Model 2</td>\n",
    "<td>2.20</td>\n",
    "<td>2.15</td>\n",
    "</tr>\n",
    "<tr>\n",
    "<td>Model 3</td>\n",
    "<td>2.10</td>\n",
    "<td>2.14</td>\n",
    "</tr>\n",
    "<tr>\n",
    "<td>Model 4</td>\n",
    "<td>1.90</td>\n",
    "<td>2.35</td>\n",
    "</tr>\n",
    "</tbody>\n",
    "</table>\n",
    "  \n",
    "---\n",
    "  \n",
    "Possible Answers\n",
    "  \n",
    "- [ ] Model 1.\n",
    "- [ ] Model 2.\n",
    "- [ ] Model 3.\n",
    "- [x] Model 4.\n",
    "  \n",
    "That's right! Model 4 has considerably lower train MSE compared to other models. However, validation MSE started growing again."
   ]
  },
  {
   "cell_type": "markdown",
   "metadata": {},
   "source": [
    "### Train XGBoost models\n",
    "  \n",
    "Every Machine Learning method could potentially overfit. You will see it on this example with XGBoost. Again, you are working with the Store Item Demand Forecasting Challenge. The `train` DataFrame is available in your workspace.\n",
    "  \n",
    "Firstly, let's train multiple XGBoost models with different sets of hyperparameters using XGBoost's learning API. The single hyperparameter you will change is:\n",
    "  \n",
    "`max_depth=` - maximum depth of a tree. Increasing this value will make the model more complex and more likely to overfit.\n",
    "  \n",
    "---\n",
    "  \n",
    "1. Set the maximum depth to 2. Then hit Submit Answer button to train the first model.\n",
    "2. Now, set the maximum depth to 8. Then hit Submit Answer button to train the second model.\n",
    "3. Finally, set the maximum depth to 15. Then hit Submit Answer button to train the third model."
   ]
  },
  {
   "cell_type": "code",
   "execution_count": 17,
   "metadata": {},
   "outputs": [],
   "source": [
    "import xgboost as xgb\n",
    "\n",
    "# Create DMatrix on train data\n",
    "dtrain = xgb.DMatrix(data=train[['store', 'item']],\n",
    "                     label=train['sales'])\n",
    "\n",
    "# Define xgboost parameters\n",
    "params = {'objective': 'reg:squarederror',\n",
    "          'max_depth': 2,\n",
    "          'verbosity': 1}\n",
    "\n",
    "# Train xgboost model\n",
    "xg_depth_2 = xgb.train(params=params, dtrain=dtrain)"
   ]
  },
  {
   "cell_type": "code",
   "execution_count": 18,
   "metadata": {},
   "outputs": [],
   "source": [
    "# Create DMatrix on train data\n",
    "dtrain = xgb.DMatrix(data=train[['store', 'item']],\n",
    "                     label=train['sales'])\n",
    "\n",
    "# Define xgboost parameters\n",
    "params = {'objective': 'reg:squarederror',\n",
    "          'max_depth': 8,\n",
    "          'verbosity': 1}\n",
    "\n",
    "# Train xgboost model\n",
    "xg_depth_8 = xgb.train(params=params, dtrain=dtrain)"
   ]
  },
  {
   "cell_type": "code",
   "execution_count": 19,
   "metadata": {},
   "outputs": [],
   "source": [
    "# Create DMatrix on train data\n",
    "dtrain = xgb.DMatrix(data=train[['store', 'item']],\n",
    "                     label=train['sales'])\n",
    "\n",
    "# Define xgboost parameters\n",
    "params = {'objective': 'reg:squarederror',\n",
    "          'max_depth': 15,\n",
    "          'verbosity': 1}\n",
    "\n",
    "# Train xgboost model\n",
    "xg_depth_15 = xgb.train(params=params, dtrain=dtrain)"
   ]
  },
  {
   "cell_type": "markdown",
   "metadata": {},
   "source": [
    "All right, now you have 3 different XGBoost models trained. Let's explore them further!"
   ]
  },
  {
   "cell_type": "markdown",
   "metadata": {},
   "source": [
    "### Explore overfitting XGBoost\n",
    "  \n",
    "Having trained 3 XGBoost models with different maximum depths, you will now evaluate their quality. For this purpose, you will measure the quality of each model on both the train data and the test data. As you know by now, the train data is the data models have been trained on. The test data is the next month sales data that models have never seen before.\n",
    "  \n",
    "The goal of this exercise is to determine whether any of the models trained is overfitting. To measure the quality of the models you will use Mean Squared Error (MSE). It's available in `sklearn.metrics` as `mean_squared_error()` function that takes two arguments: true values and predicted values.\n",
    "  \n",
    "`train` and `test` DataFrames together with 3 models trained (`xg_depth_2`, `xg_depth_8`, `xg_depth_15`) are available in your workspace.\n",
    "  \n",
    "---\n",
    "  \n",
    "1. Make predictions for each model on both the train and test data.\n",
    "2. Calculate the MSE between the true values and your predictions for both the train and test data."
   ]
  },
  {
   "cell_type": "code",
   "execution_count": 20,
   "metadata": {},
   "outputs": [
    {
     "name": "stdout",
     "output_type": "stream",
     "text": [
      "MSE Train: 331.064. MSE Test: 249.434\n",
      "MSE Train: 112.057. MSE Test: 30.516\n",
      "MSE Train: 84.952. MSE Test: 3.517\n"
     ]
    }
   ],
   "source": [
    "from sklearn.metrics import mean_squared_error\n",
    "\n",
    "dtrain = xgb.DMatrix(data=train[['store', 'item']])\n",
    "dtest = xgb.DMatrix(data=test[['store', 'item']])\n",
    "\n",
    "# For each of 3 trained models\n",
    "for model in [xg_depth_2, xg_depth_8, xg_depth_15]:\n",
    "    # Make predictions\n",
    "    train_pred = model.predict(dtrain)\n",
    "    test_pred = model.predict(dtest)\n",
    "    \n",
    "    # Calculate metrics\n",
    "    mse_train = mean_squared_error(train['sales'], train_pred)\n",
    "    mse_test = mean_squared_error(test['sales'], test_pred)\n",
    "    print('MSE Train: {:.3f}. MSE Test: {:.3f}'.format(mse_train, mse_test))"
   ]
  },
  {
   "cell_type": "markdown",
   "metadata": {},
   "source": [
    "So, you see that the third model with depth 15 is already overfitting. It has considerably lower train error compared to the second model, however test error is higher. Be aware of overfitting and move on to the next chapter to know how to beat it!\n",
    "  \n",
    "```python\n",
    "<script.py> output:\n",
    "    MSE Train: 631.275. MSE Test: 558.522\n",
    "    MSE Train: 183.771. MSE Test: 337.337\n",
    "    MSE Train: 134.984. MSE Test: 355.534\n",
    "```"
   ]
  }
 ],
 "metadata": {
  "kernelspec": {
   "display_name": "Python 3",
   "language": "python",
   "name": "python3"
  },
  "language_info": {
   "codemirror_mode": {
    "name": "ipython",
    "version": 3
   },
   "file_extension": ".py",
   "mimetype": "text/x-python",
   "name": "python",
   "nbconvert_exporter": "python",
   "pygments_lexer": "ipython3",
   "version": "3.11.0"
  },
  "orig_nbformat": 4
 },
 "nbformat": 4,
 "nbformat_minor": 2
}
